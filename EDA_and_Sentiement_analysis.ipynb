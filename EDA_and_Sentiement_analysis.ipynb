{
 "cells": [
  {
   "cell_type": "markdown",
   "metadata": {},
   "source": [
    "# INVESTIGATING AMAZON’S CUSTOMER SATISFACTION USING SENTIMENT ANALYSIS WITH TRANSFORMER MODELS\n"
   ]
  },
  {
   "cell_type": "markdown",
   "metadata": {},
   "source": [
    "## INTRODUCTION"
   ]
  },
  {
   "cell_type": "markdown",
   "metadata": {},
   "source": [
    "This notebook provides a comprehensive overview of the analysis performed on the customer review data scrapped from Amazon's e-commerce platform and how the analysis helps to understand customer satisfaction. It looks into the examination of the data, the exploratory data analysis results as well as the findings from the sentiment analysis performed using the lexicon-based approach and NLP transformers. It also highlights the key trends, patterns, and significant findings that emerged from the sentiment analysis. "
   ]
  },
  {
   "cell_type": "markdown",
   "metadata": {},
   "source": [
    "## DATA PREPARATION AND PRE-PROCESSING"
   ]
  },
  {
   "cell_type": "markdown",
   "metadata": {},
   "source": [
    "It is well known that data is always messy and dirty, hence the need for data cleaning. In the section, the customer review data is examined and cleaned dataset was clean, consistent, and ready for the subsequent sentiment analysis, which provides a good foundation for accurate and meaningful insights."
   ]
  },
  {
   "cell_type": "markdown",
   "metadata": {},
   "source": [
    "For this study, the period in consideration is 1 January 2018 to 31 December 2022. This timeframe was selected to capture the fall and rise in Amazon’s customer satisfaction score during those period of time. Hence, the 'amazon_reviews' data will be filtered to include only reviews within this timeframe.   "
   ]
  },
  {
   "cell_type": "markdown",
   "metadata": {},
   "source": [
    "Now we will import the necessary libraries"
   ]
  },
  {
   "cell_type": "code",
   "execution_count": 9,
   "metadata": {},
   "outputs": [],
   "source": [
    "# import libraries\n",
    "import pandas as pd\n",
    "import numpy as np\n",
    "import matplotlib.pyplot as plt"
   ]
  },
  {
   "cell_type": "code",
   "execution_count": 10,
   "metadata": {},
   "outputs": [],
   "source": [
    "# load the review data\n",
    "df = pd.read_csv('amazon_reviews.csv')"
   ]
  },
  {
   "cell_type": "code",
   "execution_count": 11,
   "metadata": {},
   "outputs": [
    {
     "data": {
      "text/plain": [
       "(10593, 6)"
      ]
     },
     "execution_count": 11,
     "metadata": {},
     "output_type": "execute_result"
    }
   ],
   "source": [
    "# check the shape of the data\n",
    "df.shape"
   ]
  },
  {
   "cell_type": "markdown",
   "metadata": {},
   "source": [
    "### Data Sampling"
   ]
  },
  {
   "cell_type": "markdown",
   "metadata": {},
   "source": [
    "Now, we will create a new column called 'year' from the 'review_date' column. "
   ]
  },
  {
   "cell_type": "code",
   "execution_count": 12,
   "metadata": {},
   "outputs": [
    {
     "data": {
      "text/html": [
       "<div>\n",
       "<style scoped>\n",
       "    .dataframe tbody tr th:only-of-type {\n",
       "        vertical-align: middle;\n",
       "    }\n",
       "\n",
       "    .dataframe tbody tr th {\n",
       "        vertical-align: top;\n",
       "    }\n",
       "\n",
       "    .dataframe thead th {\n",
       "        text-align: right;\n",
       "    }\n",
       "</style>\n",
       "<table border=\"1\" class=\"dataframe\">\n",
       "  <thead>\n",
       "    <tr style=\"text-align: right;\">\n",
       "      <th></th>\n",
       "      <th>item</th>\n",
       "      <th>review</th>\n",
       "      <th>date</th>\n",
       "      <th>rating</th>\n",
       "      <th>review_word</th>\n",
       "      <th>item_url</th>\n",
       "      <th>year</th>\n",
       "    </tr>\n",
       "  </thead>\n",
       "  <tbody>\n",
       "    <tr>\n",
       "      <th>0</th>\n",
       "      <td>Alice in Wonderland (Disney Gold Classic Colle...</td>\n",
       "      <td>My dvd</td>\n",
       "      <td>September 19, 2022</td>\n",
       "      <td>5.0</td>\n",
       "      <td>The movie was great</td>\n",
       "      <td>https://www.amazon.com/Alice-Wonderland-Disney...</td>\n",
       "      <td>2022</td>\n",
       "    </tr>\n",
       "    <tr>\n",
       "      <th>1</th>\n",
       "      <td>Alice in Wonderland (Disney Gold Classic Colle...</td>\n",
       "      <td>A true tale to follow</td>\n",
       "      <td>January 31, 2019</td>\n",
       "      <td>5.0</td>\n",
       "      <td>The animation is quite clever and the story is...</td>\n",
       "      <td>https://www.amazon.com/Alice-Wonderland-Disney...</td>\n",
       "      <td>2019</td>\n",
       "    </tr>\n",
       "    <tr>\n",
       "      <th>2</th>\n",
       "      <td>Alice in Wonderland (Disney Gold Classic Colle...</td>\n",
       "      <td>Fast shipping</td>\n",
       "      <td>August 16, 2022</td>\n",
       "      <td>5.0</td>\n",
       "      <td>Fast shipping. Good quality. Thank you</td>\n",
       "      <td>https://www.amazon.com/Alice-Wonderland-Disney...</td>\n",
       "      <td>2022</td>\n",
       "    </tr>\n",
       "    <tr>\n",
       "      <th>3</th>\n",
       "      <td>Alice in Wonderland (Disney Gold Classic Colle...</td>\n",
       "      <td>A Fun, Cynical Ride</td>\n",
       "      <td>January 9, 2019</td>\n",
       "      <td>4.0</td>\n",
       "      <td>More a cynical Disney film, the movie has no d...</td>\n",
       "      <td>https://www.amazon.com/Alice-Wonderland-Disney...</td>\n",
       "      <td>2019</td>\n",
       "    </tr>\n",
       "    <tr>\n",
       "      <th>4</th>\n",
       "      <td>Alice in Wonderland (Disney Gold Classic Colle...</td>\n",
       "      <td>A Disney Classic</td>\n",
       "      <td>April 4, 2019</td>\n",
       "      <td>5.0</td>\n",
       "      <td>If you are a fan of Disney animation then you ...</td>\n",
       "      <td>https://www.amazon.com/Alice-Wonderland-Disney...</td>\n",
       "      <td>2019</td>\n",
       "    </tr>\n",
       "  </tbody>\n",
       "</table>\n",
       "</div>"
      ],
      "text/plain": [
       "                                                item                 review  \\\n",
       "0  Alice in Wonderland (Disney Gold Classic Colle...                 My dvd   \n",
       "1  Alice in Wonderland (Disney Gold Classic Colle...  A true tale to follow   \n",
       "2  Alice in Wonderland (Disney Gold Classic Colle...          Fast shipping   \n",
       "3  Alice in Wonderland (Disney Gold Classic Colle...    A Fun, Cynical Ride   \n",
       "4  Alice in Wonderland (Disney Gold Classic Colle...       A Disney Classic   \n",
       "\n",
       "                 date  rating  \\\n",
       "0  September 19, 2022     5.0   \n",
       "1    January 31, 2019     5.0   \n",
       "2     August 16, 2022     5.0   \n",
       "3     January 9, 2019     4.0   \n",
       "4       April 4, 2019     5.0   \n",
       "\n",
       "                                         review_word  \\\n",
       "0                                The movie was great   \n",
       "1  The animation is quite clever and the story is...   \n",
       "2             Fast shipping. Good quality. Thank you   \n",
       "3  More a cynical Disney film, the movie has no d...   \n",
       "4  If you are a fan of Disney animation then you ...   \n",
       "\n",
       "                                            item_url  year  \n",
       "0  https://www.amazon.com/Alice-Wonderland-Disney...  2022  \n",
       "1  https://www.amazon.com/Alice-Wonderland-Disney...  2019  \n",
       "2  https://www.amazon.com/Alice-Wonderland-Disney...  2022  \n",
       "3  https://www.amazon.com/Alice-Wonderland-Disney...  2019  \n",
       "4  https://www.amazon.com/Alice-Wonderland-Disney...  2019  "
      ]
     },
     "execution_count": 12,
     "metadata": {},
     "output_type": "execute_result"
    }
   ],
   "source": [
    "# extracting the year from the date column into another column called year\n",
    "df['year'] = pd.DatetimeIndex(df['date']).year\n",
    "df.head()"
   ]
  },
  {
   "cell_type": "code",
   "execution_count": 13,
   "metadata": {},
   "outputs": [
    {
     "data": {
      "text/plain": [
       "year\n",
       "2024    1094\n",
       "2023     819\n",
       "2015     733\n",
       "2014     694\n",
       "2016     650\n",
       "2013     625\n",
       "2000     575\n",
       "2019     559\n",
       "2021     526\n",
       "2017     526\n",
       "2020     472\n",
       "2022     451\n",
       "2018     435\n",
       "2012     285\n",
       "2001     279\n",
       "2005     275\n",
       "2011     190\n",
       "2007     184\n",
       "2003     174\n",
       "2004     167\n",
       "2010     163\n",
       "2006     155\n",
       "2002     150\n",
       "2009     149\n",
       "2008     136\n",
       "1999     117\n",
       "1998      10\n",
       "Name: count, dtype: int64"
      ]
     },
     "execution_count": 13,
     "metadata": {},
     "output_type": "execute_result"
    }
   ],
   "source": [
    "# checking the range of years in the data\n",
    "df.year.value_counts()"
   ]
  },
  {
   "cell_type": "markdown",
   "metadata": {},
   "source": [
    "This shows that the data spans from 1998 to 2024."
   ]
  },
  {
   "cell_type": "markdown",
   "metadata": {},
   "source": [
    "The next step is to filter the data to only include reviews between 2018 and 2022"
   ]
  },
  {
   "cell_type": "code",
   "execution_count": 14,
   "metadata": {},
   "outputs": [
    {
     "data": {
      "text/html": [
       "<div>\n",
       "<style scoped>\n",
       "    .dataframe tbody tr th:only-of-type {\n",
       "        vertical-align: middle;\n",
       "    }\n",
       "\n",
       "    .dataframe tbody tr th {\n",
       "        vertical-align: top;\n",
       "    }\n",
       "\n",
       "    .dataframe thead th {\n",
       "        text-align: right;\n",
       "    }\n",
       "</style>\n",
       "<table border=\"1\" class=\"dataframe\">\n",
       "  <thead>\n",
       "    <tr style=\"text-align: right;\">\n",
       "      <th></th>\n",
       "      <th>item</th>\n",
       "      <th>review</th>\n",
       "      <th>date</th>\n",
       "      <th>rating</th>\n",
       "      <th>review_word</th>\n",
       "      <th>item_url</th>\n",
       "      <th>year</th>\n",
       "    </tr>\n",
       "  </thead>\n",
       "  <tbody>\n",
       "    <tr>\n",
       "      <th>0</th>\n",
       "      <td>Alice in Wonderland (Disney Gold Classic Colle...</td>\n",
       "      <td>My dvd</td>\n",
       "      <td>September 19, 2022</td>\n",
       "      <td>5.0</td>\n",
       "      <td>The movie was great</td>\n",
       "      <td>https://www.amazon.com/Alice-Wonderland-Disney...</td>\n",
       "      <td>2022</td>\n",
       "    </tr>\n",
       "    <tr>\n",
       "      <th>1</th>\n",
       "      <td>Alice in Wonderland (Disney Gold Classic Colle...</td>\n",
       "      <td>A true tale to follow</td>\n",
       "      <td>January 31, 2019</td>\n",
       "      <td>5.0</td>\n",
       "      <td>The animation is quite clever and the story is...</td>\n",
       "      <td>https://www.amazon.com/Alice-Wonderland-Disney...</td>\n",
       "      <td>2019</td>\n",
       "    </tr>\n",
       "    <tr>\n",
       "      <th>2</th>\n",
       "      <td>Alice in Wonderland (Disney Gold Classic Colle...</td>\n",
       "      <td>Fast shipping</td>\n",
       "      <td>August 16, 2022</td>\n",
       "      <td>5.0</td>\n",
       "      <td>Fast shipping. Good quality. Thank you</td>\n",
       "      <td>https://www.amazon.com/Alice-Wonderland-Disney...</td>\n",
       "      <td>2022</td>\n",
       "    </tr>\n",
       "    <tr>\n",
       "      <th>3</th>\n",
       "      <td>Alice in Wonderland (Disney Gold Classic Colle...</td>\n",
       "      <td>A Fun, Cynical Ride</td>\n",
       "      <td>January 9, 2019</td>\n",
       "      <td>4.0</td>\n",
       "      <td>More a cynical Disney film, the movie has no d...</td>\n",
       "      <td>https://www.amazon.com/Alice-Wonderland-Disney...</td>\n",
       "      <td>2019</td>\n",
       "    </tr>\n",
       "    <tr>\n",
       "      <th>4</th>\n",
       "      <td>Alice in Wonderland (Disney Gold Classic Colle...</td>\n",
       "      <td>A Disney Classic</td>\n",
       "      <td>April 4, 2019</td>\n",
       "      <td>5.0</td>\n",
       "      <td>If you are a fan of Disney animation then you ...</td>\n",
       "      <td>https://www.amazon.com/Alice-Wonderland-Disney...</td>\n",
       "      <td>2019</td>\n",
       "    </tr>\n",
       "  </tbody>\n",
       "</table>\n",
       "</div>"
      ],
      "text/plain": [
       "                                                item                 review  \\\n",
       "0  Alice in Wonderland (Disney Gold Classic Colle...                 My dvd   \n",
       "1  Alice in Wonderland (Disney Gold Classic Colle...  A true tale to follow   \n",
       "2  Alice in Wonderland (Disney Gold Classic Colle...          Fast shipping   \n",
       "3  Alice in Wonderland (Disney Gold Classic Colle...    A Fun, Cynical Ride   \n",
       "4  Alice in Wonderland (Disney Gold Classic Colle...       A Disney Classic   \n",
       "\n",
       "                 date  rating  \\\n",
       "0  September 19, 2022     5.0   \n",
       "1    January 31, 2019     5.0   \n",
       "2     August 16, 2022     5.0   \n",
       "3     January 9, 2019     4.0   \n",
       "4       April 4, 2019     5.0   \n",
       "\n",
       "                                         review_word  \\\n",
       "0                                The movie was great   \n",
       "1  The animation is quite clever and the story is...   \n",
       "2             Fast shipping. Good quality. Thank you   \n",
       "3  More a cynical Disney film, the movie has no d...   \n",
       "4  If you are a fan of Disney animation then you ...   \n",
       "\n",
       "                                            item_url  year  \n",
       "0  https://www.amazon.com/Alice-Wonderland-Disney...  2022  \n",
       "1  https://www.amazon.com/Alice-Wonderland-Disney...  2019  \n",
       "2  https://www.amazon.com/Alice-Wonderland-Disney...  2022  \n",
       "3  https://www.amazon.com/Alice-Wonderland-Disney...  2019  \n",
       "4  https://www.amazon.com/Alice-Wonderland-Disney...  2019  "
      ]
     },
     "execution_count": 14,
     "metadata": {},
     "output_type": "execute_result"
    }
   ],
   "source": [
    "# we filter the data to include only the year 2018, 2019, 2020, 2021 and 2022\n",
    "df = df[df['year'].isin([2018, 2019, 2020, 2021, 2022])]\n",
    "df.head()"
   ]
  },
  {
   "cell_type": "code",
   "execution_count": 15,
   "metadata": {},
   "outputs": [
    {
     "data": {
      "text/plain": [
       "(2443, 7)"
      ]
     },
     "execution_count": 15,
     "metadata": {},
     "output_type": "execute_result"
    }
   ],
   "source": [
    "# check the shape of the data after filtering\n",
    "df.shape"
   ]
  },
  {
   "cell_type": "markdown",
   "metadata": {},
   "source": [
    "This shows that from the original data of 10,593, there are 2443 reviews between 2018 and 2022"
   ]
  },
  {
   "cell_type": "code",
   "execution_count": 16,
   "metadata": {},
   "outputs": [
    {
     "data": {
      "text/plain": [
       "year\n",
       "2019    559\n",
       "2021    526\n",
       "2020    472\n",
       "2022    451\n",
       "2018    435\n",
       "Name: count, dtype: int64"
      ]
     },
     "execution_count": 16,
     "metadata": {},
     "output_type": "execute_result"
    }
   ],
   "source": [
    "# value counts of the year column\n",
    "df.year.value_counts()"
   ]
  },
  {
   "cell_type": "markdown",
   "metadata": {},
   "source": [
    "This shows that some years have more reviews than others. The year 2020 has the highest number of reviews, followed by 2019, 2018, 2021, and 2022. Therefore, we  will use random sampling to get 350 reviews from each year."
   ]
  },
  {
   "cell_type": "code",
   "execution_count": 23,
   "metadata": {},
   "outputs": [
    {
     "data": {
      "text/html": [
       "<div>\n",
       "<style scoped>\n",
       "    .dataframe tbody tr th:only-of-type {\n",
       "        vertical-align: middle;\n",
       "    }\n",
       "\n",
       "    .dataframe tbody tr th {\n",
       "        vertical-align: top;\n",
       "    }\n",
       "\n",
       "    .dataframe thead th {\n",
       "        text-align: right;\n",
       "    }\n",
       "</style>\n",
       "<table border=\"1\" class=\"dataframe\">\n",
       "  <thead>\n",
       "    <tr style=\"text-align: right;\">\n",
       "      <th></th>\n",
       "      <th>item</th>\n",
       "      <th>review</th>\n",
       "      <th>date</th>\n",
       "      <th>rating</th>\n",
       "      <th>review_word</th>\n",
       "      <th>item_url</th>\n",
       "      <th>year</th>\n",
       "    </tr>\n",
       "  </thead>\n",
       "  <tbody>\n",
       "    <tr>\n",
       "      <th>0</th>\n",
       "      <td>Molly Hatchet</td>\n",
       "      <td>as described</td>\n",
       "      <td>September 11, 2018</td>\n",
       "      <td>5.0</td>\n",
       "      <td>as described</td>\n",
       "      <td>https://www.amazon.com/Molly-Hatchet/dp/B00000...</td>\n",
       "      <td>2018</td>\n",
       "    </tr>\n",
       "    <tr>\n",
       "      <th>1</th>\n",
       "      <td>Mary Poppins [VHS]</td>\n",
       "      <td>One of the best movie musicals ever, with grea...</td>\n",
       "      <td>June 10, 2018</td>\n",
       "      <td>5.0</td>\n",
       "      <td>The Blu-ray definition is superior to the DVD ...</td>\n",
       "      <td>https://www.amazon.com/Mary-Poppins-VHS-Julie-...</td>\n",
       "      <td>2018</td>\n",
       "    </tr>\n",
       "    <tr>\n",
       "      <th>2</th>\n",
       "      <td>Riddle Box</td>\n",
       "      <td>The joke's on you</td>\n",
       "      <td>January 30, 2018</td>\n",
       "      <td>5.0</td>\n",
       "      <td>This album always takes me back to junior high...</td>\n",
       "      <td>https://www.amazon.com/Riddle-Box-Insane-Clown...</td>\n",
       "      <td>2018</td>\n",
       "    </tr>\n",
       "    <tr>\n",
       "      <th>3</th>\n",
       "      <td>Sky Is Crying</td>\n",
       "      <td>Buy!</td>\n",
       "      <td>June 18, 2018</td>\n",
       "      <td>5.0</td>\n",
       "      <td>Stevie Ray was/is the best.</td>\n",
       "      <td>https://www.amazon.com/Crying-Stevie-Vaughan-D...</td>\n",
       "      <td>2018</td>\n",
       "    </tr>\n",
       "    <tr>\n",
       "      <th>4</th>\n",
       "      <td>Kid A</td>\n",
       "      <td>Five Stars</td>\n",
       "      <td>January 15, 2018</td>\n",
       "      <td>5.0</td>\n",
       "      <td>very rare material :)</td>\n",
       "      <td>https://www.amazon.com/Kid-Radiohead/dp/B00004...</td>\n",
       "      <td>2018</td>\n",
       "    </tr>\n",
       "  </tbody>\n",
       "</table>\n",
       "</div>"
      ],
      "text/plain": [
       "                 item                                             review  \\\n",
       "0       Molly Hatchet                                       as described   \n",
       "1  Mary Poppins [VHS]  One of the best movie musicals ever, with grea...   \n",
       "2          Riddle Box                                  The joke's on you   \n",
       "3       Sky Is Crying                                               Buy!   \n",
       "4               Kid A                                         Five Stars   \n",
       "\n",
       "                 date  rating  \\\n",
       "0  September 11, 2018     5.0   \n",
       "1       June 10, 2018     5.0   \n",
       "2    January 30, 2018     5.0   \n",
       "3       June 18, 2018     5.0   \n",
       "4    January 15, 2018     5.0   \n",
       "\n",
       "                                         review_word  \\\n",
       "0                                       as described   \n",
       "1  The Blu-ray definition is superior to the DVD ...   \n",
       "2  This album always takes me back to junior high...   \n",
       "3                        Stevie Ray was/is the best.   \n",
       "4                              very rare material :)   \n",
       "\n",
       "                                            item_url  year  \n",
       "0  https://www.amazon.com/Molly-Hatchet/dp/B00000...  2018  \n",
       "1  https://www.amazon.com/Mary-Poppins-VHS-Julie-...  2018  \n",
       "2  https://www.amazon.com/Riddle-Box-Insane-Clown...  2018  \n",
       "3  https://www.amazon.com/Crying-Stevie-Vaughan-D...  2018  \n",
       "4  https://www.amazon.com/Kid-Radiohead/dp/B00004...  2018  "
      ]
     },
     "execution_count": 23,
     "metadata": {},
     "output_type": "execute_result"
    }
   ],
   "source": [
    "# the list of years to sample from\n",
    "years = [2018, 2019, 2020, 2021, 2022]\n",
    "\n",
    "# now we will create an empty list to store the sampled dataframes\n",
    "sampled_dfs = []\n",
    "\n",
    "# we will loop through each year and sample 350 reviews\n",
    "for year in years:\n",
    "    # Filter data for the current year\n",
    "    year_df = df[df['year'] == year]\n",
    "    \n",
    "    # we will sample 350 reviews randomly\n",
    "    sampled_year_df = year_df.sample(n=350)\n",
    "    \n",
    "    # The we append the sampled DataFrame to the list\n",
    "    sampled_dfs.append(sampled_year_df)\n",
    "\n",
    "# Now we join all sampled DataFrames into a single DataFrame\n",
    "sampled_df = pd.concat(sampled_dfs, ignore_index=True)\n",
    "sampled_df.head()"
   ]
  },
  {
   "cell_type": "code",
   "execution_count": 24,
   "metadata": {},
   "outputs": [
    {
     "data": {
      "text/plain": [
       "(1750, 7)"
      ]
     },
     "execution_count": 24,
     "metadata": {},
     "output_type": "execute_result"
    }
   ],
   "source": [
    "sampled_df.shape"
   ]
  },
  {
   "cell_type": "code",
   "execution_count": 25,
   "metadata": {},
   "outputs": [
    {
     "data": {
      "text/plain": [
       "year\n",
       "2018    350\n",
       "2019    350\n",
       "2020    350\n",
       "2021    350\n",
       "2022    350\n",
       "Name: count, dtype: int64"
      ]
     },
     "execution_count": 25,
     "metadata": {},
     "output_type": "execute_result"
    }
   ],
   "source": [
    "# value counts of the year column\n",
    "sampled_df.year.value_counts()"
   ]
  },
  {
   "cell_type": "markdown",
   "metadata": {},
   "source": [
    "Now, we will save the sampled data to a new CSV file."
   ]
  },
  {
   "cell_type": "code",
   "execution_count": null,
   "metadata": {},
   "outputs": [],
   "source": [
    "# save the sampled data to a csv file\n",
    "sampled_df.to_csv('sampled_amazon_reviews.csv', index=False)"
   ]
  },
  {
   "cell_type": "markdown",
   "metadata": {},
   "source": [
    "### Data Cleaning"
   ]
  },
  {
   "cell_type": "markdown",
   "metadata": {},
   "source": [
    "The next step of the analysis is to load the sampled data for data cleaning."
   ]
  },
  {
   "cell_type": "code",
   "execution_count": 26,
   "metadata": {},
   "outputs": [],
   "source": [
    "# load the sampled data\n",
    "df = pd.read_csv('sampled_amazon_reviews.csv')"
   ]
  },
  {
   "cell_type": "code",
   "execution_count": 27,
   "metadata": {},
   "outputs": [
    {
     "data": {
      "text/plain": [
       "(1750, 7)"
      ]
     },
     "execution_count": 27,
     "metadata": {},
     "output_type": "execute_result"
    }
   ],
   "source": [
    "# check the shape of the data\n",
    "df.shape"
   ]
  },
  {
   "cell_type": "code",
   "execution_count": 28,
   "metadata": {},
   "outputs": [
    {
     "data": {
      "text/html": [
       "<div>\n",
       "<style scoped>\n",
       "    .dataframe tbody tr th:only-of-type {\n",
       "        vertical-align: middle;\n",
       "    }\n",
       "\n",
       "    .dataframe tbody tr th {\n",
       "        vertical-align: top;\n",
       "    }\n",
       "\n",
       "    .dataframe thead th {\n",
       "        text-align: right;\n",
       "    }\n",
       "</style>\n",
       "<table border=\"1\" class=\"dataframe\">\n",
       "  <thead>\n",
       "    <tr style=\"text-align: right;\">\n",
       "      <th></th>\n",
       "      <th>item</th>\n",
       "      <th>review</th>\n",
       "      <th>date</th>\n",
       "      <th>rating</th>\n",
       "      <th>review_word</th>\n",
       "      <th>item_url</th>\n",
       "      <th>year</th>\n",
       "    </tr>\n",
       "  </thead>\n",
       "  <tbody>\n",
       "    <tr>\n",
       "      <th>0</th>\n",
       "      <td>Bushnell Powerview 16x50 Binocular</td>\n",
       "      <td>it would've been stupid to trash</td>\n",
       "      <td>April 24, 2018</td>\n",
       "      <td>1</td>\n",
       "      <td>so, these are the SECOND Bushnell Powerview 16...</td>\n",
       "      <td>https://www.amazon.com/Bushnell-131650-Powervi...</td>\n",
       "      <td>2018</td>\n",
       "    </tr>\n",
       "    <tr>\n",
       "      <th>1</th>\n",
       "      <td>Riddle Box</td>\n",
       "      <td>Crappie</td>\n",
       "      <td>November 16, 2018</td>\n",
       "      <td>1</td>\n",
       "      <td>Crappie</td>\n",
       "      <td>https://www.amazon.com/Riddle-Box-Insane-Clown...</td>\n",
       "      <td>2018</td>\n",
       "    </tr>\n",
       "    <tr>\n",
       "      <th>2</th>\n",
       "      <td>Play</td>\n",
       "      <td>One Star</td>\n",
       "      <td>January 26, 2018</td>\n",
       "      <td>1</td>\n",
       "      <td>CD is defective, but my printer's defunct, so ...</td>\n",
       "      <td>https://www.amazon.com/Play-Moby/dp/B00000J6AG...</td>\n",
       "      <td>2018</td>\n",
       "    </tr>\n",
       "    <tr>\n",
       "      <th>3</th>\n",
       "      <td>Antichrist Superstar</td>\n",
       "      <td>Two Stars</td>\n",
       "      <td>July 18, 2018</td>\n",
       "      <td>2</td>\n",
       "      <td>I love Manson, but should have listened to all...</td>\n",
       "      <td>https://www.amazon.com/Antichrist-Superstar-Ma...</td>\n",
       "      <td>2018</td>\n",
       "    </tr>\n",
       "    <tr>\n",
       "      <th>4</th>\n",
       "      <td>Speakerboxxx / The Love Below</td>\n",
       "      <td>Wanted to like it</td>\n",
       "      <td>April 25, 2018</td>\n",
       "      <td>2</td>\n",
       "      <td>well I thought that I would really like this c...</td>\n",
       "      <td>https://www.amazon.com/Speakerboxxx-Love-Below...</td>\n",
       "      <td>2018</td>\n",
       "    </tr>\n",
       "  </tbody>\n",
       "</table>\n",
       "</div>"
      ],
      "text/plain": [
       "                                 item                            review  \\\n",
       "0  Bushnell Powerview 16x50 Binocular  it would've been stupid to trash   \n",
       "1                          Riddle Box                           Crappie   \n",
       "2                                Play                          One Star   \n",
       "3                Antichrist Superstar                         Two Stars   \n",
       "4       Speakerboxxx / The Love Below                 Wanted to like it   \n",
       "\n",
       "                date  rating  \\\n",
       "0     April 24, 2018       1   \n",
       "1  November 16, 2018       1   \n",
       "2   January 26, 2018       1   \n",
       "3      July 18, 2018       2   \n",
       "4     April 25, 2018       2   \n",
       "\n",
       "                                         review_word  \\\n",
       "0  so, these are the SECOND Bushnell Powerview 16...   \n",
       "1                                            Crappie   \n",
       "2  CD is defective, but my printer's defunct, so ...   \n",
       "3  I love Manson, but should have listened to all...   \n",
       "4  well I thought that I would really like this c...   \n",
       "\n",
       "                                            item_url  year  \n",
       "0  https://www.amazon.com/Bushnell-131650-Powervi...  2018  \n",
       "1  https://www.amazon.com/Riddle-Box-Insane-Clown...  2018  \n",
       "2  https://www.amazon.com/Play-Moby/dp/B00000J6AG...  2018  \n",
       "3  https://www.amazon.com/Antichrist-Superstar-Ma...  2018  \n",
       "4  https://www.amazon.com/Speakerboxxx-Love-Below...  2018  "
      ]
     },
     "execution_count": 28,
     "metadata": {},
     "output_type": "execute_result"
    }
   ],
   "source": [
    "# check the first few rows of the data\n",
    "df.head()"
   ]
  },
  {
   "cell_type": "markdown",
   "metadata": {},
   "source": [
    "The first data cleaning step is to remove any columns that are not relevant to the analysis."
   ]
  },
  {
   "cell_type": "code",
   "execution_count": 30,
   "metadata": {},
   "outputs": [
    {
     "data": {
      "text/html": [
       "<div>\n",
       "<style scoped>\n",
       "    .dataframe tbody tr th:only-of-type {\n",
       "        vertical-align: middle;\n",
       "    }\n",
       "\n",
       "    .dataframe tbody tr th {\n",
       "        vertical-align: top;\n",
       "    }\n",
       "\n",
       "    .dataframe thead th {\n",
       "        text-align: right;\n",
       "    }\n",
       "</style>\n",
       "<table border=\"1\" class=\"dataframe\">\n",
       "  <thead>\n",
       "    <tr style=\"text-align: right;\">\n",
       "      <th></th>\n",
       "      <th>rating</th>\n",
       "      <th>review_word</th>\n",
       "      <th>year</th>\n",
       "    </tr>\n",
       "  </thead>\n",
       "  <tbody>\n",
       "    <tr>\n",
       "      <th>0</th>\n",
       "      <td>1</td>\n",
       "      <td>so, these are the SECOND Bushnell Powerview 16...</td>\n",
       "      <td>2018</td>\n",
       "    </tr>\n",
       "    <tr>\n",
       "      <th>1</th>\n",
       "      <td>1</td>\n",
       "      <td>Crappie</td>\n",
       "      <td>2018</td>\n",
       "    </tr>\n",
       "    <tr>\n",
       "      <th>2</th>\n",
       "      <td>1</td>\n",
       "      <td>CD is defective, but my printer's defunct, so ...</td>\n",
       "      <td>2018</td>\n",
       "    </tr>\n",
       "    <tr>\n",
       "      <th>3</th>\n",
       "      <td>2</td>\n",
       "      <td>I love Manson, but should have listened to all...</td>\n",
       "      <td>2018</td>\n",
       "    </tr>\n",
       "    <tr>\n",
       "      <th>4</th>\n",
       "      <td>2</td>\n",
       "      <td>well I thought that I would really like this c...</td>\n",
       "      <td>2018</td>\n",
       "    </tr>\n",
       "  </tbody>\n",
       "</table>\n",
       "</div>"
      ],
      "text/plain": [
       "   rating                                        review_word  year\n",
       "0       1  so, these are the SECOND Bushnell Powerview 16...  2018\n",
       "1       1                                            Crappie  2018\n",
       "2       1  CD is defective, but my printer's defunct, so ...  2018\n",
       "3       2  I love Manson, but should have listened to all...  2018\n",
       "4       2  well I thought that I would really like this c...  2018"
      ]
     },
     "execution_count": 30,
     "metadata": {},
     "output_type": "execute_result"
    }
   ],
   "source": [
    "# dropping the columns that are not relevant to this analysis\n",
    "df = df.drop(['item', 'review', 'date', 'item_url'], axis = 1)\n",
    "df.head()"
   ]
  },
  {
   "cell_type": "markdown",
   "metadata": {},
   "source": [
    "The second step is to clean the data by removing any missing values and duplicates."
   ]
  },
  {
   "cell_type": "code",
   "execution_count": 31,
   "metadata": {},
   "outputs": [
    {
     "data": {
      "text/plain": [
       "rating         0\n",
       "review_word    0\n",
       "year           0\n",
       "dtype: int64"
      ]
     },
     "execution_count": 31,
     "metadata": {},
     "output_type": "execute_result"
    }
   ],
   "source": [
    "# checking for missing values\n",
    "df.isnull().sum()"
   ]
  },
  {
   "cell_type": "code",
   "execution_count": 32,
   "metadata": {},
   "outputs": [
    {
     "data": {
      "text/plain": [
       "0"
      ]
     },
     "execution_count": 32,
     "metadata": {},
     "output_type": "execute_result"
    }
   ],
   "source": [
    "# checking for duplicates\n",
    "df.duplicated().sum()"
   ]
  },
  {
   "cell_type": "markdown",
   "metadata": {},
   "source": [
    "There are no missing values or duplicates in the data"
   ]
  },
  {
   "cell_type": "markdown",
   "metadata": {},
   "source": [
    "Now, in the last step, we will convert the year column into datetime format"
   ]
  },
  {
   "cell_type": "code",
   "execution_count": 33,
   "metadata": {},
   "outputs": [],
   "source": [
    "# convert year into a dt.year data type\n",
    "df['year'] = pd.to_datetime(df['year'], format='%Y').dt.year"
   ]
  },
  {
   "cell_type": "markdown",
   "metadata": {},
   "source": [
    "All data cleaning step have been successfully completed."
   ]
  },
  {
   "cell_type": "markdown",
   "metadata": {},
   "source": [
    "### Data Preprocessing"
   ]
  },
  {
   "cell_type": "markdown",
   "metadata": {},
   "source": [
    "In this section, we will transform the data to make it ready for analysis. The first step is to encode the rating column into a binary column called sentiment. We will encode ratings 1, and 2 as negative (-1), rating 3 as neutral (0) and ratings 4 and 5 as positive(1)."
   ]
  },
  {
   "cell_type": "code",
   "execution_count": 36,
   "metadata": {},
   "outputs": [],
   "source": [
    "# we will encode the rating to a -1, 0, 1 scale: \n",
    "df['rating_score'] = df['rating'].apply(lambda x: 1 if x > 3 else (0 if x == 3 else -1))"
   ]
  },
  {
   "cell_type": "code",
   "execution_count": 37,
   "metadata": {},
   "outputs": [
    {
     "data": {
      "text/html": [
       "<div>\n",
       "<style scoped>\n",
       "    .dataframe tbody tr th:only-of-type {\n",
       "        vertical-align: middle;\n",
       "    }\n",
       "\n",
       "    .dataframe tbody tr th {\n",
       "        vertical-align: top;\n",
       "    }\n",
       "\n",
       "    .dataframe thead th {\n",
       "        text-align: right;\n",
       "    }\n",
       "</style>\n",
       "<table border=\"1\" class=\"dataframe\">\n",
       "  <thead>\n",
       "    <tr style=\"text-align: right;\">\n",
       "      <th></th>\n",
       "      <th>rating</th>\n",
       "      <th>review_word</th>\n",
       "      <th>year</th>\n",
       "      <th>rating_score</th>\n",
       "    </tr>\n",
       "  </thead>\n",
       "  <tbody>\n",
       "    <tr>\n",
       "      <th>0</th>\n",
       "      <td>1</td>\n",
       "      <td>so, these are the SECOND Bushnell Powerview 16...</td>\n",
       "      <td>2018</td>\n",
       "      <td>-1</td>\n",
       "    </tr>\n",
       "    <tr>\n",
       "      <th>1</th>\n",
       "      <td>1</td>\n",
       "      <td>Crappie</td>\n",
       "      <td>2018</td>\n",
       "      <td>-1</td>\n",
       "    </tr>\n",
       "    <tr>\n",
       "      <th>2</th>\n",
       "      <td>1</td>\n",
       "      <td>CD is defective, but my printer's defunct, so ...</td>\n",
       "      <td>2018</td>\n",
       "      <td>-1</td>\n",
       "    </tr>\n",
       "    <tr>\n",
       "      <th>3</th>\n",
       "      <td>2</td>\n",
       "      <td>I love Manson, but should have listened to all...</td>\n",
       "      <td>2018</td>\n",
       "      <td>-1</td>\n",
       "    </tr>\n",
       "    <tr>\n",
       "      <th>4</th>\n",
       "      <td>2</td>\n",
       "      <td>well I thought that I would really like this c...</td>\n",
       "      <td>2018</td>\n",
       "      <td>-1</td>\n",
       "    </tr>\n",
       "  </tbody>\n",
       "</table>\n",
       "</div>"
      ],
      "text/plain": [
       "   rating                                        review_word  year  \\\n",
       "0       1  so, these are the SECOND Bushnell Powerview 16...  2018   \n",
       "1       1                                            Crappie  2018   \n",
       "2       1  CD is defective, but my printer's defunct, so ...  2018   \n",
       "3       2  I love Manson, but should have listened to all...  2018   \n",
       "4       2  well I thought that I would really like this c...  2018   \n",
       "\n",
       "   rating_score  \n",
       "0            -1  \n",
       "1            -1  \n",
       "2            -1  \n",
       "3            -1  \n",
       "4            -1  "
      ]
     },
     "execution_count": 37,
     "metadata": {},
     "output_type": "execute_result"
    }
   ],
   "source": [
    "# examine the data\n",
    "df.head()"
   ]
  },
  {
   "cell_type": "markdown",
   "metadata": {},
   "source": [
    "In the next preprocessing step, we will create a function to clean the text data by removing special characters, numbers, and converting the text to lowercase. The function will also remove stopwords and perform lemmatization on the text data."
   ]
  },
  {
   "cell_type": "code",
   "execution_count": 38,
   "metadata": {},
   "outputs": [],
   "source": [
    "# import the necessary libraries\n",
    "import re\n",
    "import string\n",
    "from collections import Counter\n",
    "from wordcloud import WordCloud\n",
    "import seaborn as sns\n",
    "import nltk\n",
    "from nltk.corpus import stopwords\n",
    "from nltk.stem.porter import PorterStemmer"
   ]
  },
  {
   "cell_type": "code",
   "execution_count": 39,
   "metadata": {},
   "outputs": [],
   "source": [
    "# creating a function to clean the text\n",
    "def transform_text(text):\n",
    "\n",
    "    #lower casing\n",
    "    text=text.lower()\n",
    "\n",
    "    #removing html tags\n",
    "    pattern=re.compile('<.*?>')\n",
    "    text=pattern.sub(r'', text)\n",
    "\n",
    "    #removing urls\n",
    "    pattern_url=re.compile(r'https?://\\S+|www\\.\\S+')\n",
    "    text=pattern_url.sub(r'', text)\n",
    "\n",
    "    #remove apostrophes\n",
    "    text=text.replace(\"’\", \"\")\n",
    "\n",
    "    # Removing new line characters (ensure proper spacing)\n",
    "    text = re.sub(r'\\n+', ' ', text)\n",
    "\n",
    "    #removing new line characters\n",
    "    text=text.replace('\\n', ' ')\n",
    "\n",
    "    #removing punctuations\n",
    "    for char in string.punctuation:   ###punctuation_marks '!\"#$%&\\'()*+,-./:;<=>?@[\\\\]^_`{|}~'\n",
    "        text=text.replace(char, '')\n",
    "\n",
    "    #tokenization\n",
    "    text=nltk.word_tokenize(text)\n",
    "\n",
    "    #removing stop words\n",
    "    new_text=[]\n",
    "\n",
    "    for word in text:\n",
    "        if word not in stopwords.words('english'):\n",
    "            new_text.append(word)\n",
    "\n",
    "    #stemming\n",
    "    new_text_stem=[]\n",
    "    for word in new_text:\n",
    "        potter=PorterStemmer()\n",
    "        word=potter.stem(word)\n",
    "        new_text_stem.append(word)\n",
    "   \n",
    "    return ' '.join(new_text_stem)"
   ]
  },
  {
   "cell_type": "markdown",
   "metadata": {},
   "source": [
    "Now we will apply the function to the review column"
   ]
  },
  {
   "cell_type": "code",
   "execution_count": 41,
   "metadata": {},
   "outputs": [
    {
     "data": {
      "text/html": [
       "<div>\n",
       "<style scoped>\n",
       "    .dataframe tbody tr th:only-of-type {\n",
       "        vertical-align: middle;\n",
       "    }\n",
       "\n",
       "    .dataframe tbody tr th {\n",
       "        vertical-align: top;\n",
       "    }\n",
       "\n",
       "    .dataframe thead th {\n",
       "        text-align: right;\n",
       "    }\n",
       "</style>\n",
       "<table border=\"1\" class=\"dataframe\">\n",
       "  <thead>\n",
       "    <tr style=\"text-align: right;\">\n",
       "      <th></th>\n",
       "      <th>rating</th>\n",
       "      <th>review_word</th>\n",
       "      <th>year</th>\n",
       "      <th>rating_score</th>\n",
       "      <th>new_review_word</th>\n",
       "    </tr>\n",
       "  </thead>\n",
       "  <tbody>\n",
       "    <tr>\n",
       "      <th>0</th>\n",
       "      <td>1</td>\n",
       "      <td>so, these are the SECOND Bushnell Powerview 16...</td>\n",
       "      <td>2018</td>\n",
       "      <td>-1</td>\n",
       "      <td>second bushnel powerview 16 x 50 binocularsrig...</td>\n",
       "    </tr>\n",
       "    <tr>\n",
       "      <th>1</th>\n",
       "      <td>1</td>\n",
       "      <td>Crappie</td>\n",
       "      <td>2018</td>\n",
       "      <td>-1</td>\n",
       "      <td>crappi</td>\n",
       "    </tr>\n",
       "    <tr>\n",
       "      <th>2</th>\n",
       "      <td>1</td>\n",
       "      <td>CD is defective, but my printer's defunct, so ...</td>\n",
       "      <td>2018</td>\n",
       "      <td>-1</td>\n",
       "      <td>cd defect printer defunct cant print return la...</td>\n",
       "    </tr>\n",
       "    <tr>\n",
       "      <th>3</th>\n",
       "      <td>2</td>\n",
       "      <td>I love Manson, but should have listened to all...</td>\n",
       "      <td>2018</td>\n",
       "      <td>-1</td>\n",
       "      <td>love manson listen song first suck could send ...</td>\n",
       "    </tr>\n",
       "    <tr>\n",
       "      <th>4</th>\n",
       "      <td>2</td>\n",
       "      <td>well I thought that I would really like this c...</td>\n",
       "      <td>2018</td>\n",
       "      <td>-1</td>\n",
       "      <td>well thought would realli like cd wasnt one</td>\n",
       "    </tr>\n",
       "  </tbody>\n",
       "</table>\n",
       "</div>"
      ],
      "text/plain": [
       "   rating                                        review_word  year  \\\n",
       "0       1  so, these are the SECOND Bushnell Powerview 16...  2018   \n",
       "1       1                                            Crappie  2018   \n",
       "2       1  CD is defective, but my printer's defunct, so ...  2018   \n",
       "3       2  I love Manson, but should have listened to all...  2018   \n",
       "4       2  well I thought that I would really like this c...  2018   \n",
       "\n",
       "   rating_score                                    new_review_word  \n",
       "0            -1  second bushnel powerview 16 x 50 binocularsrig...  \n",
       "1            -1                                             crappi  \n",
       "2            -1  cd defect printer defunct cant print return la...  \n",
       "3            -1  love manson listen song first suck could send ...  \n",
       "4            -1        well thought would realli like cd wasnt one  "
      ]
     },
     "execution_count": 41,
     "metadata": {},
     "output_type": "execute_result"
    }
   ],
   "source": [
    "# we will apply the function to the review column\n",
    "df['new_review_word'] = df['review_word'].apply(transform_text)\n",
    "df.head()"
   ]
  },
  {
   "cell_type": "markdown",
   "metadata": {},
   "source": [
    "The review_word column has been succesfully cleaned and transformed into new_review_word column."
   ]
  },
  {
   "cell_type": "markdown",
   "metadata": {},
   "source": [
    "## EXPLORATORY DATA ANALYSIS"
   ]
  },
  {
   "cell_type": "markdown",
   "metadata": {},
   "source": [
    "After the customer review data has been cleaning and pre-processed, an exploratory data analysis was conducted to gain a better understanding of the data and to visually examine the relationships and patterns in the data. "
   ]
  },
  {
   "cell_type": "markdown",
   "metadata": {},
   "source": [
    "### Distribution of the ratings"
   ]
  },
  {
   "cell_type": "markdown",
   "metadata": {},
   "source": [
    "The first step is to check the distribution of the ratings in the data. "
   ]
  },
  {
   "cell_type": "code",
   "execution_count": 42,
   "metadata": {},
   "outputs": [
    {
     "data": {
      "text/plain": [
       "rating\n",
       "5    1401\n",
       "4     207\n",
       "3      82\n",
       "1      35\n",
       "2      25\n",
       "Name: count, dtype: int64"
      ]
     },
     "execution_count": 42,
     "metadata": {},
     "output_type": "execute_result"
    }
   ],
   "source": [
    "# check the value counts of the rating_score column\n",
    "df['rating'].value_counts()"
   ]
  },
  {
   "cell_type": "code",
   "execution_count": 43,
   "metadata": {},
   "outputs": [
    {
     "data": {
      "text/html": [
       "<div>\n",
       "<style scoped>\n",
       "    .dataframe tbody tr th:only-of-type {\n",
       "        vertical-align: middle;\n",
       "    }\n",
       "\n",
       "    .dataframe tbody tr th {\n",
       "        vertical-align: top;\n",
       "    }\n",
       "\n",
       "    .dataframe thead th {\n",
       "        text-align: right;\n",
       "    }\n",
       "</style>\n",
       "<table border=\"1\" class=\"dataframe\">\n",
       "  <thead>\n",
       "    <tr style=\"text-align: right;\">\n",
       "      <th></th>\n",
       "      <th>rating</th>\n",
       "      <th>year</th>\n",
       "      <th>rating_score</th>\n",
       "    </tr>\n",
       "  </thead>\n",
       "  <tbody>\n",
       "    <tr>\n",
       "      <th>count</th>\n",
       "      <td>1750.000000</td>\n",
       "      <td>1750.000000</td>\n",
       "      <td>1750.000000</td>\n",
       "    </tr>\n",
       "    <tr>\n",
       "      <th>mean</th>\n",
       "      <td>4.665143</td>\n",
       "      <td>2020.000000</td>\n",
       "      <td>0.884571</td>\n",
       "    </tr>\n",
       "    <tr>\n",
       "      <th>std</th>\n",
       "      <td>0.801576</td>\n",
       "      <td>1.414618</td>\n",
       "      <td>0.413248</td>\n",
       "    </tr>\n",
       "    <tr>\n",
       "      <th>min</th>\n",
       "      <td>1.000000</td>\n",
       "      <td>2018.000000</td>\n",
       "      <td>-1.000000</td>\n",
       "    </tr>\n",
       "    <tr>\n",
       "      <th>25%</th>\n",
       "      <td>5.000000</td>\n",
       "      <td>2019.000000</td>\n",
       "      <td>1.000000</td>\n",
       "    </tr>\n",
       "    <tr>\n",
       "      <th>50%</th>\n",
       "      <td>5.000000</td>\n",
       "      <td>2020.000000</td>\n",
       "      <td>1.000000</td>\n",
       "    </tr>\n",
       "    <tr>\n",
       "      <th>75%</th>\n",
       "      <td>5.000000</td>\n",
       "      <td>2021.000000</td>\n",
       "      <td>1.000000</td>\n",
       "    </tr>\n",
       "    <tr>\n",
       "      <th>max</th>\n",
       "      <td>5.000000</td>\n",
       "      <td>2022.000000</td>\n",
       "      <td>1.000000</td>\n",
       "    </tr>\n",
       "  </tbody>\n",
       "</table>\n",
       "</div>"
      ],
      "text/plain": [
       "            rating         year  rating_score\n",
       "count  1750.000000  1750.000000   1750.000000\n",
       "mean      4.665143  2020.000000      0.884571\n",
       "std       0.801576     1.414618      0.413248\n",
       "min       1.000000  2018.000000     -1.000000\n",
       "25%       5.000000  2019.000000      1.000000\n",
       "50%       5.000000  2020.000000      1.000000\n",
       "75%       5.000000  2021.000000      1.000000\n",
       "max       5.000000  2022.000000      1.000000"
      ]
     },
     "execution_count": 43,
     "metadata": {},
     "output_type": "execute_result"
    }
   ],
   "source": [
    "# check the distribution of the rating_score column\n",
    "df.describe()"
   ]
  },
  {
   "cell_type": "markdown",
   "metadata": {},
   "source": [
    "The average rating is approximately 4., which suggests that, on average, customers are generally positive about the products being reviewed.\n",
    "\n",
    "The standard deviation of 0.801576 suggests a moderate degree of variation in the ratings. This means that customer opinions vary slightly, with some ratings differing from the average.\n",
    "\n",
    "The minimum rating is 1, while the maximum rating is 5. This shows that the dataset covers the entire range of ratings. This ensures a comprehensive analysis of sentiment, capturing the full range of possible ratings. Overall, this suggests a consistently high satisfaction across the dataset spanning from 2018 to 2022."
   ]
  },
  {
   "cell_type": "markdown",
   "metadata": {},
   "source": [
    "Now, we will visualize the distribution of the rating_score column using a plot. First, we will calculate the percentage of each rating_score category."
   ]
  },
  {
   "cell_type": "code",
   "execution_count": 44,
   "metadata": {},
   "outputs": [
    {
     "data": {
      "text/plain": [
       "rating\n",
       "1     2.000000\n",
       "2     1.428571\n",
       "3     4.685714\n",
       "4    11.828571\n",
       "5    80.057143\n",
       "Name: proportion, dtype: float64"
      ]
     },
     "execution_count": 44,
     "metadata": {},
     "output_type": "execute_result"
    }
   ],
   "source": [
    "# converting the rating to a categorical variable\n",
    "df['rating'] = df['rating'].astype('category')\n",
    "\n",
    "# calculating the percentage of each rating\n",
    "rating_counts = df['rating'].value_counts(normalize=True).sort_index() * 100\n",
    "rating_counts"
   ]
  },
  {
   "cell_type": "markdown",
   "metadata": {},
   "source": [
    "Now we will visualize the distribution using a bar plot."
   ]
  },
  {
   "cell_type": "code",
   "execution_count": 45,
   "metadata": {},
   "outputs": [
    {
     "data": {
      "image/png": "[encoded data removed]",
      "text/plain": [
       "<Figure size 800x600 with 1 Axes>"
      ]
     },
     "metadata": {},
     "output_type": "display_data"
    }
   ],
   "source": [
    "# calculating the percentage of each rating\n",
    "rating_counts = df['rating'].value_counts(normalize=True).sort_index() * 100\n",
    "\n",
    "# plotting the distribution of ratings as percentages\n",
    "plt.figure(figsize=(8, 6))\n",
    "bars = plt.bar(rating_counts.index, rating_counts)\n",
    "\n",
    "# adding percentage labels on top of each bar\n",
    "for bar in bars:\n",
    "    height = bar.get_height()\n",
    "    plt.text(\n",
    "        bar.get_x() + bar.get_width() / 2, height,\n",
    "        f'{height:.2f}%',\n",
    "        ha='center', va='bottom'\n",
    "    )\n",
    "\n",
    "plt.title('Distribution of Ratings in Percentage')\n",
    "plt.xlabel('Rating')\n",
    "plt.ylabel('Percentage')\n",
    "plt.xticks(rotation=0)\n",
    "plt.show()"
   ]
  },
  {
   "cell_type": "markdown",
   "metadata": {},
   "source": [
    "Note: The code for the 'Add percentage labels on top of each bar' part was sourced from ChatGPT"
   ]
  },
  {
   "cell_type": "markdown",
   "metadata": {},
   "source": [
    "The ratings are heavily skewed towards higher scores, with 80.06% of reviews receiving a perfect score of 5. A substantial portion of reviews also gave ratings of 4, comprising 11.83% of the dataset.Additionally, ratings of 3 and below are less common, with 3 receiving 4.69%, 2 receiving 1.43%, and 1 receiving 2.00% of the total ratings."
   ]
  },
  {
   "cell_type": "markdown",
   "metadata": {},
   "source": [
    "### Average rating per year"
   ]
  },
  {
   "cell_type": "markdown",
   "metadata": {},
   "source": [
    "Now we will investigate the average rating score for each year in the dataset to see if there are any trends over time."
   ]
  },
  {
   "cell_type": "code",
   "execution_count": 48,
   "metadata": {},
   "outputs": [
    {
     "data": {
      "text/plain": [
       "year\n",
       "2018    4.662857\n",
       "2019    4.700000\n",
       "2020    4.642857\n",
       "2021    4.591429\n",
       "2022    4.728571\n",
       "Name: rating, dtype: float64"
      ]
     },
     "execution_count": 48,
     "metadata": {},
     "output_type": "execute_result"
    }
   ],
   "source": [
    "# convert the rating to a numerical variable\n",
    "df['rating'] = df['rating'].astype(int)\n",
    "\n",
    "# calculating the average rating per year\n",
    "average_ratings_per_year = df.groupby('year')['rating'].mean()\n",
    "average_ratings_per_year\n"
   ]
  },
  {
   "cell_type": "markdown",
   "metadata": {},
   "source": [
    "Let us now plot the average rating per year to see how it has been changing over the years."
   ]
  },
  {
   "cell_type": "code",
   "execution_count": 49,
   "metadata": {},
   "outputs": [
    {
     "data": {
      "image/png": "[encoded data removed]",
      "text/plain": [
       "<Figure size 1000x600 with 1 Axes>"
      ]
     },
     "metadata": {},
     "output_type": "display_data"
    }
   ],
   "source": [
    "# we will calculate the average rating per year\n",
    "average_ratings_per_year = df.groupby('year')['rating'].mean()\n",
    "\n",
    "# plotting the average rating per year\n",
    "plt.figure(figsize=(10, 6))\n",
    "plt.plot(average_ratings_per_year.index, average_ratings_per_year, marker='o', linestyle='-')\n",
    "plt.title('Average Rating per Year')\n",
    "plt.xticks(average_ratings_per_year.index.astype(int))\n",
    "plt.xlabel('Year')\n",
    "plt.ylabel('Average Rating')\n",
    "plt.grid(False)\n",
    "plt.show()"
   ]
  },
  {
   "cell_type": "markdown",
   "metadata": {},
   "source": [
    "\n",
    "\n",
    "The average ratings per year show sharp variations from 4.59 in 2021 to 4.73 in 2022. The average rating was at the lowest in 2021, only to rise significantly in 2022. This is similar to the fluctuation observed in amazon's ASCI score during this period. The highest average rating was observed in 2022 which suggest suggesting a potential improvement in customer satisfaction or product quality. Overall, from 2018 to 2022, the average rating was above 4.5. This reflects a consistent positive feedback throughout the dataset.\n"
   ]
  },
  {
   "cell_type": "markdown",
   "metadata": {},
   "source": [
    "### Most frequent words in reviews"
   ]
  },
  {
   "cell_type": "markdown",
   "metadata": {},
   "source": [
    "The next step in this EDA is to examine the most common words in the reviews. This will help us understand the language used in the reviews and identify any patterns or trends."
   ]
  },
  {
   "cell_type": "code",
   "execution_count": 50,
   "metadata": {},
   "outputs": [
    {
     "data": {
      "text/html": [
       "<div>\n",
       "<style scoped>\n",
       "    .dataframe tbody tr th:only-of-type {\n",
       "        vertical-align: middle;\n",
       "    }\n",
       "\n",
       "    .dataframe tbody tr th {\n",
       "        vertical-align: top;\n",
       "    }\n",
       "\n",
       "    .dataframe thead th {\n",
       "        text-align: right;\n",
       "    }\n",
       "</style>\n",
       "<table border=\"1\" class=\"dataframe\">\n",
       "  <thead>\n",
       "    <tr style=\"text-align: right;\">\n",
       "      <th></th>\n",
       "      <th>rating</th>\n",
       "      <th>review_word</th>\n",
       "      <th>year</th>\n",
       "      <th>rating_score</th>\n",
       "      <th>new_review_word</th>\n",
       "    </tr>\n",
       "  </thead>\n",
       "  <tbody>\n",
       "    <tr>\n",
       "      <th>0</th>\n",
       "      <td>1</td>\n",
       "      <td>so, these are the SECOND Bushnell Powerview 16...</td>\n",
       "      <td>2018</td>\n",
       "      <td>-1</td>\n",
       "      <td>second bushnel powerview 16 x 50 binocularsrig...</td>\n",
       "    </tr>\n",
       "    <tr>\n",
       "      <th>1</th>\n",
       "      <td>1</td>\n",
       "      <td>Crappie</td>\n",
       "      <td>2018</td>\n",
       "      <td>-1</td>\n",
       "      <td>crappi</td>\n",
       "    </tr>\n",
       "    <tr>\n",
       "      <th>2</th>\n",
       "      <td>1</td>\n",
       "      <td>CD is defective, but my printer's defunct, so ...</td>\n",
       "      <td>2018</td>\n",
       "      <td>-1</td>\n",
       "      <td>cd defect printer defunct cant print return la...</td>\n",
       "    </tr>\n",
       "    <tr>\n",
       "      <th>3</th>\n",
       "      <td>2</td>\n",
       "      <td>I love Manson, but should have listened to all...</td>\n",
       "      <td>2018</td>\n",
       "      <td>-1</td>\n",
       "      <td>love manson listen song first suck could send ...</td>\n",
       "    </tr>\n",
       "    <tr>\n",
       "      <th>4</th>\n",
       "      <td>2</td>\n",
       "      <td>well I thought that I would really like this c...</td>\n",
       "      <td>2018</td>\n",
       "      <td>-1</td>\n",
       "      <td>well thought would realli like cd wasnt one</td>\n",
       "    </tr>\n",
       "  </tbody>\n",
       "</table>\n",
       "</div>"
      ],
      "text/plain": [
       "   rating                                        review_word  year  \\\n",
       "0       1  so, these are the SECOND Bushnell Powerview 16...  2018   \n",
       "1       1                                            Crappie  2018   \n",
       "2       1  CD is defective, but my printer's defunct, so ...  2018   \n",
       "3       2  I love Manson, but should have listened to all...  2018   \n",
       "4       2  well I thought that I would really like this c...  2018   \n",
       "\n",
       "   rating_score                                    new_review_word  \n",
       "0            -1  second bushnel powerview 16 x 50 binocularsrig...  \n",
       "1            -1                                             crappi  \n",
       "2            -1  cd defect printer defunct cant print return la...  \n",
       "3            -1  love manson listen song first suck could send ...  \n",
       "4            -1        well thought would realli like cd wasnt one  "
      ]
     },
     "execution_count": 50,
     "metadata": {},
     "output_type": "execute_result"
    }
   ],
   "source": [
    "df.head()"
   ]
  },
  {
   "cell_type": "code",
   "execution_count": 52,
   "metadata": {},
   "outputs": [
    {
     "data": {
      "text/html": [
       "<div>\n",
       "<style scoped>\n",
       "    .dataframe tbody tr th:only-of-type {\n",
       "        vertical-align: middle;\n",
       "    }\n",
       "\n",
       "    .dataframe tbody tr th {\n",
       "        vertical-align: top;\n",
       "    }\n",
       "\n",
       "    .dataframe thead th {\n",
       "        text-align: right;\n",
       "    }\n",
       "</style>\n",
       "<table border=\"1\" class=\"dataframe\">\n",
       "  <thead>\n",
       "    <tr style=\"text-align: right;\">\n",
       "      <th></th>\n",
       "      <th>rating</th>\n",
       "      <th>review_word</th>\n",
       "      <th>year</th>\n",
       "      <th>rating_score</th>\n",
       "      <th>new_review_word</th>\n",
       "      <th>word_count</th>\n",
       "    </tr>\n",
       "  </thead>\n",
       "  <tbody>\n",
       "    <tr>\n",
       "      <th>0</th>\n",
       "      <td>1</td>\n",
       "      <td>so, these are the SECOND Bushnell Powerview 16...</td>\n",
       "      <td>2018</td>\n",
       "      <td>-1</td>\n",
       "      <td>second bushnel powerview 16 x 50 binocularsrig...</td>\n",
       "      <td>235</td>\n",
       "    </tr>\n",
       "    <tr>\n",
       "      <th>1</th>\n",
       "      <td>1</td>\n",
       "      <td>Crappie</td>\n",
       "      <td>2018</td>\n",
       "      <td>-1</td>\n",
       "      <td>crappi</td>\n",
       "      <td>1</td>\n",
       "    </tr>\n",
       "    <tr>\n",
       "      <th>2</th>\n",
       "      <td>1</td>\n",
       "      <td>CD is defective, but my printer's defunct, so ...</td>\n",
       "      <td>2018</td>\n",
       "      <td>-1</td>\n",
       "      <td>cd defect printer defunct cant print return la...</td>\n",
       "      <td>19</td>\n",
       "    </tr>\n",
       "    <tr>\n",
       "      <th>3</th>\n",
       "      <td>2</td>\n",
       "      <td>I love Manson, but should have listened to all...</td>\n",
       "      <td>2018</td>\n",
       "      <td>-1</td>\n",
       "      <td>love manson listen song first suck could send ...</td>\n",
       "      <td>17</td>\n",
       "    </tr>\n",
       "    <tr>\n",
       "      <th>4</th>\n",
       "      <td>2</td>\n",
       "      <td>well I thought that I would really like this c...</td>\n",
       "      <td>2018</td>\n",
       "      <td>-1</td>\n",
       "      <td>well thought would realli like cd wasnt one</td>\n",
       "      <td>18</td>\n",
       "    </tr>\n",
       "  </tbody>\n",
       "</table>\n",
       "</div>"
      ],
      "text/plain": [
       "   rating                                        review_word  year  \\\n",
       "0       1  so, these are the SECOND Bushnell Powerview 16...  2018   \n",
       "1       1                                            Crappie  2018   \n",
       "2       1  CD is defective, but my printer's defunct, so ...  2018   \n",
       "3       2  I love Manson, but should have listened to all...  2018   \n",
       "4       2  well I thought that I would really like this c...  2018   \n",
       "\n",
       "   rating_score                                    new_review_word  word_count  \n",
       "0            -1  second bushnel powerview 16 x 50 binocularsrig...         235  \n",
       "1            -1                                             crappi           1  \n",
       "2            -1  cd defect printer defunct cant print return la...          19  \n",
       "3            -1  love manson listen song first suck could send ...          17  \n",
       "4            -1        well thought would realli like cd wasnt one          18  "
      ]
     },
     "execution_count": 52,
     "metadata": {},
     "output_type": "execute_result"
    }
   ],
   "source": [
    "# now we will create a new column 'word_count' by counting the number of words in 'review_word'\n",
    "df['word_count'] = df['review_word'].apply(lambda x: len(x.split()))\n",
    "df.head()"
   ]
  },
  {
   "cell_type": "code",
   "execution_count": 53,
   "metadata": {},
   "outputs": [
    {
     "data": {
      "text/plain": [
       "{'movi': 508,\n",
       " 'album': 494,\n",
       " 'great': 474,\n",
       " 'one': 415,\n",
       " 'love': 409,\n",
       " 'cd': 314,\n",
       " 'like': 302,\n",
       " 'song': 275,\n",
       " 'good': 274,\n",
       " 'time': 272}"
      ]
     },
     "execution_count": 53,
     "metadata": {},
     "output_type": "execute_result"
    }
   ],
   "source": [
    "# tokenize words and count frequencies\n",
    "word_counts = Counter()\n",
    "for review in df['new_review_word']:\n",
    "    word_counts.update(review.split())\n",
    "\n",
    "# we will now select top 20 most frequent words\n",
    "top_words = dict(word_counts.most_common(10))\n",
    "top_words"
   ]
  },
  {
   "cell_type": "markdown",
   "metadata": {},
   "source": [
    "The next step is to visualize the top 10 most frequent words using a bar plot"
   ]
  },
  {
   "cell_type": "code",
   "execution_count": 55,
   "metadata": {},
   "outputs": [
    {
     "data": {
      "image/png": "[encoded data removed]",
      "text/plain": [
       "<Figure size 1000x600 with 1 Axes>"
      ]
     },
     "metadata": {},
     "output_type": "display_data"
    }
   ],
   "source": [
    "# plotting bar chart\n",
    "plt.figure(figsize=(10, 6))\n",
    "plt.bar(top_words.keys(), top_words.values())\n",
    "plt.title('Top 10 Most Frequent Words in Reviews')\n",
    "plt.xlabel('Words')\n",
    "plt.ylabel('Frequency')\n",
    "plt.xticks(rotation=45, ha='right')\n",
    "plt.tight_layout()\n",
    "plt.show()"
   ]
  },
  {
   "cell_type": "markdown",
   "metadata": {},
   "source": [
    "The high frequency of positive words like 'great', 'like' and 'good' in the reviews further stresses the overall positive opinions and satisfaction expressed by customers during this period of time. "
   ]
  },
  {
   "cell_type": "markdown",
   "metadata": {},
   "source": [
    "### Word cloud of reviews"
   ]
  },
  {
   "cell_type": "markdown",
   "metadata": {},
   "source": [
    "The next step is to create a word cloud to further visualize the most frequent words in the reviews   "
   ]
  },
  {
   "cell_type": "code",
   "execution_count": 57,
   "metadata": {},
   "outputs": [
    {
     "data": {
      "image/png": "[encoded data removed]",
      "text/plain": [
       "<Figure size 1000x600 with 1 Axes>"
      ]
     },
     "metadata": {},
     "output_type": "display_data"
    }
   ],
   "source": [
    "# we combine all reviews into a single string\n",
    "text = ' '.join(df['new_review_word'])\n",
    "\n",
    "# we generate word cloud\n",
    "wordcloud = WordCloud(width=800, height=400, background_color='white').generate(text)\n",
    "\n",
    "# now we display the word cloud using matplotlib\n",
    "plt.figure(figsize=(10, 6))\n",
    "plt.imshow(wordcloud, interpolation='bilinear')\n",
    "plt.title('Word Cloud of Reviews')\n",
    "plt.axis('off')\n",
    "plt.show()"
   ]
  },
  {
   "cell_type": "markdown",
   "metadata": {},
   "source": [
    "Great! We have successfully cleaned the data and performed some exploratory data analysis. We have also generated a word cloud to visualize the most frequent words in the reviews. In the next section, we will build a sentiment analysis model using the cleaned data."
   ]
  },
  {
   "cell_type": "markdown",
   "metadata": {},
   "source": [
    "## SENTIMENT ANALYSIS"
   ]
  },
  {
   "cell_type": "markdown",
   "metadata": {},
   "source": [
    "This section outlines the implementation of Valence Aware Dictionary and sEntiment Reasoner (VADER) lexicon and two NLP transformers, namely the Bidirectional Encoder Representations from Transformers (BERT) and the  Robustly Optimized BERT Approach (ROBERTA) in the classification of customer's sentiments in reviews"
   ]
  },
  {
   "cell_type": "markdown",
   "metadata": {},
   "source": [
    "### VADER (Valence Aware Dictionary and sEntiment Reasoner)"
   ]
  },
  {
   "cell_type": "markdown",
   "metadata": {},
   "source": [
    "The first sentiment analysis will be performed using the Valence Aware Dictionary and sEntiment Reasoner (VADER), which is a lexicon specifically trained for opinion mining across various online platforms."
   ]
  },
  {
   "cell_type": "markdown",
   "metadata": {},
   "source": [
    "First things first, we will import the VADER sentiment analyzer from the NLTK library."
   ]
  },
  {
   "cell_type": "code",
   "execution_count": 59,
   "metadata": {},
   "outputs": [],
   "source": [
    "from nltk.sentiment.vader import SentimentIntensityAnalyzer\n",
    "analyser = SentimentIntensityAnalyzer()"
   ]
  },
  {
   "cell_type": "markdown",
   "metadata": {},
   "source": [
    "The VADER compound score will be obtained into a separate column called ‘vader_score’. This score was subsequently encoded into another column called ‘vader_class’ such that compound scores below 0 were classified as -1 (negative), score between 0 and 0.5 were classified as 0 (neutral), and scores above 0.5  were classified as 1 (positive). "
   ]
  },
  {
   "cell_type": "code",
   "execution_count": 60,
   "metadata": {},
   "outputs": [],
   "source": [
    "# creating  empty lists to store the scores and classes\n",
    "vader_score = []\n",
    "vader_class = []\n",
    "\n",
    "\n",
    "for review in df.review_word:\n",
    "    score = analyser.polarity_scores(review)\n",
    "    compound_score = score.get('compound')\n",
    "    vader_score.append(compound_score)\n",
    "    if (compound_score < 0):\n",
    "        vader_class.append(-1)\n",
    "    elif (compound_score >= 0) and (compound_score < 0.5):\n",
    "        vader_class.append(0)\n",
    "    else:\n",
    "        vader_class.append(1)\n",
    "        \n",
    "df['vader_score'] = vader_score\n",
    "df['vader_class'] = vader_class"
   ]
  },
  {
   "cell_type": "code",
   "execution_count": 61,
   "metadata": {},
   "outputs": [
    {
     "data": {
      "text/html": [
       "<div>\n",
       "<style scoped>\n",
       "    .dataframe tbody tr th:only-of-type {\n",
       "        vertical-align: middle;\n",
       "    }\n",
       "\n",
       "    .dataframe tbody tr th {\n",
       "        vertical-align: top;\n",
       "    }\n",
       "\n",
       "    .dataframe thead th {\n",
       "        text-align: right;\n",
       "    }\n",
       "</style>\n",
       "<table border=\"1\" class=\"dataframe\">\n",
       "  <thead>\n",
       "    <tr style=\"text-align: right;\">\n",
       "      <th></th>\n",
       "      <th>rating</th>\n",
       "      <th>review_word</th>\n",
       "      <th>year</th>\n",
       "      <th>rating_score</th>\n",
       "      <th>new_review_word</th>\n",
       "      <th>word_count</th>\n",
       "      <th>vader_score</th>\n",
       "      <th>vader_class</th>\n",
       "    </tr>\n",
       "  </thead>\n",
       "  <tbody>\n",
       "    <tr>\n",
       "      <th>1320</th>\n",
       "      <td>5</td>\n",
       "      <td>I rented the movie last night but today it did...</td>\n",
       "      <td>2021</td>\n",
       "      <td>1</td>\n",
       "      <td>rent movi last night today allow watch left on...</td>\n",
       "      <td>81</td>\n",
       "      <td>-0.6331</td>\n",
       "      <td>-1</td>\n",
       "    </tr>\n",
       "    <tr>\n",
       "      <th>237</th>\n",
       "      <td>5</td>\n",
       "      <td>I used to have this and it's nice to have it a...</td>\n",
       "      <td>2018</td>\n",
       "      <td>1</td>\n",
       "      <td>use nice</td>\n",
       "      <td>12</td>\n",
       "      <td>0.4215</td>\n",
       "      <td>0</td>\n",
       "    </tr>\n",
       "    <tr>\n",
       "      <th>1549</th>\n",
       "      <td>5</td>\n",
       "      <td>Came from Australia with double the packaging ...</td>\n",
       "      <td>2022</td>\n",
       "      <td>1</td>\n",
       "      <td>came australia doubl packag heat summer near p...</td>\n",
       "      <td>41</td>\n",
       "      <td>0.9412</td>\n",
       "      <td>1</td>\n",
       "    </tr>\n",
       "    <tr>\n",
       "      <th>1527</th>\n",
       "      <td>5</td>\n",
       "      <td>thank you so much for both movies and i got bo...</td>\n",
       "      <td>2022</td>\n",
       "      <td>1</td>\n",
       "      <td>thank much movi got problem</td>\n",
       "      <td>16</td>\n",
       "      <td>-0.3400</td>\n",
       "      <td>-1</td>\n",
       "    </tr>\n",
       "    <tr>\n",
       "      <th>1722</th>\n",
       "      <td>5</td>\n",
       "      <td>This one falls under the category of \"loved th...</td>\n",
       "      <td>2022</td>\n",
       "      <td>1</td>\n",
       "      <td>one fall categori love group music sinc day 1 ...</td>\n",
       "      <td>41</td>\n",
       "      <td>0.8692</td>\n",
       "      <td>1</td>\n",
       "    </tr>\n",
       "    <tr>\n",
       "      <th>1099</th>\n",
       "      <td>5</td>\n",
       "      <td>👌</td>\n",
       "      <td>2021</td>\n",
       "      <td>1</td>\n",
       "      <td>👌</td>\n",
       "      <td>1</td>\n",
       "      <td>0.0000</td>\n",
       "      <td>0</td>\n",
       "    </tr>\n",
       "    <tr>\n",
       "      <th>169</th>\n",
       "      <td>5</td>\n",
       "      <td>Great album by one of the greatest bands of al...</td>\n",
       "      <td>2018</td>\n",
       "      <td>1</td>\n",
       "      <td>great album one greatest band time messag vita...</td>\n",
       "      <td>23</td>\n",
       "      <td>0.8885</td>\n",
       "      <td>1</td>\n",
       "    </tr>\n",
       "    <tr>\n",
       "      <th>818</th>\n",
       "      <td>5</td>\n",
       "      <td>Worked a 80 to a 95% accuracy. It help me a lo...</td>\n",
       "      <td>2020</td>\n",
       "      <td>1</td>\n",
       "      <td>work 80 95 accuraci help lot understand we bor...</td>\n",
       "      <td>31</td>\n",
       "      <td>0.7424</td>\n",
       "      <td>1</td>\n",
       "    </tr>\n",
       "    <tr>\n",
       "      <th>1537</th>\n",
       "      <td>3</td>\n",
       "      <td>Package was open. I think the cd is ok but I d...</td>\n",
       "      <td>2022</td>\n",
       "      <td>0</td>\n",
       "      <td>packag open think cd ok dont like way handl</td>\n",
       "      <td>18</td>\n",
       "      <td>-0.2651</td>\n",
       "      <td>-1</td>\n",
       "    </tr>\n",
       "    <tr>\n",
       "      <th>1116</th>\n",
       "      <td>5</td>\n",
       "      <td>Love this product. Use it all the time. Nice a...</td>\n",
       "      <td>2021</td>\n",
       "      <td>1</td>\n",
       "      <td>love product use time nice sharp</td>\n",
       "      <td>11</td>\n",
       "      <td>0.7906</td>\n",
       "      <td>1</td>\n",
       "    </tr>\n",
       "  </tbody>\n",
       "</table>\n",
       "</div>"
      ],
      "text/plain": [
       "      rating                                        review_word  year  \\\n",
       "1320       5  I rented the movie last night but today it did...  2021   \n",
       "237        5  I used to have this and it's nice to have it a...  2018   \n",
       "1549       5  Came from Australia with double the packaging ...  2022   \n",
       "1527       5  thank you so much for both movies and i got bo...  2022   \n",
       "1722       5  This one falls under the category of \"loved th...  2022   \n",
       "1099       5                                                  👌  2021   \n",
       "169        5  Great album by one of the greatest bands of al...  2018   \n",
       "818        5  Worked a 80 to a 95% accuracy. It help me a lo...  2020   \n",
       "1537       3  Package was open. I think the cd is ok but I d...  2022   \n",
       "1116       5  Love this product. Use it all the time. Nice a...  2021   \n",
       "\n",
       "      rating_score                                    new_review_word  \\\n",
       "1320             1  rent movi last night today allow watch left on...   \n",
       "237              1                                           use nice   \n",
       "1549             1  came australia doubl packag heat summer near p...   \n",
       "1527             1                        thank much movi got problem   \n",
       "1722             1  one fall categori love group music sinc day 1 ...   \n",
       "1099             1                                                  👌   \n",
       "169              1  great album one greatest band time messag vita...   \n",
       "818              1  work 80 95 accuraci help lot understand we bor...   \n",
       "1537             0        packag open think cd ok dont like way handl   \n",
       "1116             1                   love product use time nice sharp   \n",
       "\n",
       "      word_count  vader_score  vader_class  \n",
       "1320          81      -0.6331           -1  \n",
       "237           12       0.4215            0  \n",
       "1549          41       0.9412            1  \n",
       "1527          16      -0.3400           -1  \n",
       "1722          41       0.8692            1  \n",
       "1099           1       0.0000            0  \n",
       "169           23       0.8885            1  \n",
       "818           31       0.7424            1  \n",
       "1537          18      -0.2651           -1  \n",
       "1116          11       0.7906            1  "
      ]
     },
     "execution_count": 61,
     "metadata": {},
     "output_type": "execute_result"
    }
   ],
   "source": [
    "# we check the random rows in the data\n",
    "df.sample(10)"
   ]
  },
  {
   "cell_type": "markdown",
   "metadata": {},
   "source": [
    "Now using the rating_score column as the true label and the vader_class column as the predicted label, we will calculate the confusion matrix, accuracy, precision, recall, and F1 score."
   ]
  },
  {
   "cell_type": "code",
   "execution_count": 62,
   "metadata": {},
   "outputs": [
    {
     "name": "stdout",
     "output_type": "stream",
     "text": [
      "              precision    recall  f1-score   support\n",
      "\n",
      "          -1       0.20      0.55      0.29        60\n",
      "           0       0.07      0.35      0.12        82\n",
      "           1       0.96      0.70      0.81      1608\n",
      "\n",
      "    accuracy                           0.68      1750\n",
      "   macro avg       0.41      0.53      0.41      1750\n",
      "weighted avg       0.89      0.68      0.76      1750\n",
      "\n"
     ]
    }
   ],
   "source": [
    "# we calculate accuracy, precision, and F1-score\n",
    "report = classification_report(df['rating_score'], df['vader_class'], labels=[-1, 0, 1])\n",
    "print(report)"
   ]
  },
  {
   "cell_type": "markdown",
   "metadata": {},
   "source": [
    "The model performs very well in predicting class 1, with high precision (0.96) and a decent recall (0.70).\n",
    "\n",
    "The performance for classes -1 and 0 is poor, with very low precision (0.20 and 0.07, respectively) and moderate recall (0.55 and 0.35, respectively). This indicates that the model has difficulty distinguishing these classes accurately. The overall accuracy is 68%, which suggests the model is somewhat reliable overall but significantly biased towards the majority class (class 1)."
   ]
  },
  {
   "cell_type": "markdown",
   "metadata": {},
   "source": [
    "Now, we will calculate the confusion matrix to evaluate the performance of the model."
   ]
  },
  {
   "cell_type": "code",
   "execution_count": 63,
   "metadata": {},
   "outputs": [
    {
     "data": {
      "image/png": "[encoded data removed]",
      "text/plain": [
       "<Figure size 800x600 with 2 Axes>"
      ]
     },
     "metadata": {},
     "output_type": "display_data"
    }
   ],
   "source": [
    "# we compute the confusion matrix\n",
    "cm = confusion_matrix(df['rating_score'], df['vader_class'], labels=[-1, 0, 1])\n",
    "\n",
    "# we create a DataFrame for the confusion matrix for better visualization\n",
    "cm_df = pd.DataFrame(cm, index=['-1', '0', '1'], columns=['-1', '0', '1'])\n",
    "\n",
    "# plotting the confusion matrix\n",
    "plt.figure(figsize=(8, 6))\n",
    "sns.heatmap(cm_df, annot=True, fmt='d', cmap='Blues')\n",
    "plt.title('Confusion Matrix')\n",
    "plt.ylabel('Actual')\n",
    "plt.xlabel('Predicted')\n",
    "plt.show()"
   ]
  },
  {
   "cell_type": "markdown",
   "metadata": {},
   "source": [
    "### RoBERTa (Robustly Optimized BERT approach)"
   ]
  },
  {
   "cell_type": "markdown",
   "metadata": {},
   "source": [
    "The next sentiment analysis technique we will use is technique used in this study is the Robustly Optimized BERT Approach (RoBERTa) model. RoBERTa is a transformer-based model that is pre-trained on a large corpus of text data. We will use the Hugging Face Transformers library to load the pre-trained RoBERTa model and perform sentiment analysis on the Amazon reviews data. "
   ]
  },
  {
   "cell_type": "code",
   "execution_count": 64,
   "metadata": {},
   "outputs": [],
   "source": [
    "# importing the transformers library\n",
    "from transformers import pipeline"
   ]
  },
  {
   "cell_type": "markdown",
   "metadata": {},
   "source": [
    "Now, we will load the sentiment analysis pipeline using the ‘cardiffnlp/twitter-roberta-base-sentiment’ model from Hugging face. The model is suitable for English language and multilingual text classification tasks. The model predictions were encoded into a new column called ‘roberta_sentiment’, where negative reviews were represented as -1, neutral as 0, and positive reviews as 1."
   ]
  },
  {
   "cell_type": "code",
   "execution_count": 65,
   "metadata": {},
   "outputs": [
    {
     "name": "stdout",
     "output_type": "stream",
     "text": [
      "WARNING:tensorflow:From c:\\Users\\akint\\AppData\\Local\\Programs\\Python\\Python312\\Lib\\site-packages\\tf_keras\\src\\losses.py:2976: The name tf.losses.sparse_softmax_cross_entropy is deprecated. Please use tf.compat.v1.losses.sparse_softmax_cross_entropy instead.\n",
      "\n"
     ]
    }
   ],
   "source": [
    "# we load the RoBERTa sentiment-analysis pipeline\n",
    "classifier = pipeline(\"sentiment-analysis\", model=\"cardiffnlp/twitter-roberta-base-sentiment\", max_length=512, truncation=True)\n",
    "\n",
    "# function to apply the classifier safely and handle exceptions\n",
    "def get_sentiment(text):\n",
    "    try:\n",
    "        result = classifier(text)[0]['label']\n",
    "        return result\n",
    "    except RuntimeError as e:\n",
    "        print(f\"RuntimeError for text: {text[:50]}... - {e}\")\n",
    "        return None\n",
    "\n",
    "# we apply the classifier to predict sentiment for each review\n",
    "df['roberta_sentiment'] = df['review_word'].apply(get_sentiment)\n",
    "\n",
    "# mapping RoBERTa sentiment labels to numerical values\n",
    "sentiment_mapping = {'LABEL_0': -1, 'LABEL_1': 0, 'LABEL_2': 1}\n",
    "df['roberta_sentiment'] = df['roberta_sentiment'].map(sentiment_mapping)"
   ]
  },
  {
   "cell_type": "code",
   "execution_count": 67,
   "metadata": {},
   "outputs": [
    {
     "data": {
      "text/html": [
       "<div>\n",
       "<style scoped>\n",
       "    .dataframe tbody tr th:only-of-type {\n",
       "        vertical-align: middle;\n",
       "    }\n",
       "\n",
       "    .dataframe tbody tr th {\n",
       "        vertical-align: top;\n",
       "    }\n",
       "\n",
       "    .dataframe thead th {\n",
       "        text-align: right;\n",
       "    }\n",
       "</style>\n",
       "<table border=\"1\" class=\"dataframe\">\n",
       "  <thead>\n",
       "    <tr style=\"text-align: right;\">\n",
       "      <th></th>\n",
       "      <th>rating</th>\n",
       "      <th>review_word</th>\n",
       "      <th>year</th>\n",
       "      <th>rating_score</th>\n",
       "      <th>new_review_word</th>\n",
       "      <th>word_count</th>\n",
       "      <th>vader_score</th>\n",
       "      <th>vader_class</th>\n",
       "      <th>roberta_sentiment</th>\n",
       "    </tr>\n",
       "  </thead>\n",
       "  <tbody>\n",
       "    <tr>\n",
       "      <th>0</th>\n",
       "      <td>1</td>\n",
       "      <td>so, these are the SECOND Bushnell Powerview 16...</td>\n",
       "      <td>2018</td>\n",
       "      <td>-1</td>\n",
       "      <td>second bushnel powerview 16 x 50 binocularsrig...</td>\n",
       "      <td>235</td>\n",
       "      <td>-0.7715</td>\n",
       "      <td>-1</td>\n",
       "      <td>-1</td>\n",
       "    </tr>\n",
       "    <tr>\n",
       "      <th>1</th>\n",
       "      <td>1</td>\n",
       "      <td>Crappie</td>\n",
       "      <td>2018</td>\n",
       "      <td>-1</td>\n",
       "      <td>crappi</td>\n",
       "      <td>1</td>\n",
       "      <td>0.0000</td>\n",
       "      <td>0</td>\n",
       "      <td>0</td>\n",
       "    </tr>\n",
       "    <tr>\n",
       "      <th>2</th>\n",
       "      <td>1</td>\n",
       "      <td>CD is defective, but my printer's defunct, so ...</td>\n",
       "      <td>2018</td>\n",
       "      <td>-1</td>\n",
       "      <td>cd defect printer defunct cant print return la...</td>\n",
       "      <td>19</td>\n",
       "      <td>-0.9354</td>\n",
       "      <td>-1</td>\n",
       "      <td>-1</td>\n",
       "    </tr>\n",
       "    <tr>\n",
       "      <th>3</th>\n",
       "      <td>2</td>\n",
       "      <td>I love Manson, but should have listened to all...</td>\n",
       "      <td>2018</td>\n",
       "      <td>-1</td>\n",
       "      <td>love manson listen song first suck could send ...</td>\n",
       "      <td>17</td>\n",
       "      <td>0.5815</td>\n",
       "      <td>1</td>\n",
       "      <td>-1</td>\n",
       "    </tr>\n",
       "    <tr>\n",
       "      <th>4</th>\n",
       "      <td>2</td>\n",
       "      <td>well I thought that I would really like this c...</td>\n",
       "      <td>2018</td>\n",
       "      <td>-1</td>\n",
       "      <td>well thought would realli like cd wasnt one</td>\n",
       "      <td>18</td>\n",
       "      <td>0.3499</td>\n",
       "      <td>0</td>\n",
       "      <td>0</td>\n",
       "    </tr>\n",
       "  </tbody>\n",
       "</table>\n",
       "</div>"
      ],
      "text/plain": [
       "   rating                                        review_word  year  \\\n",
       "0       1  so, these are the SECOND Bushnell Powerview 16...  2018   \n",
       "1       1                                            Crappie  2018   \n",
       "2       1  CD is defective, but my printer's defunct, so ...  2018   \n",
       "3       2  I love Manson, but should have listened to all...  2018   \n",
       "4       2  well I thought that I would really like this c...  2018   \n",
       "\n",
       "   rating_score                                    new_review_word  \\\n",
       "0            -1  second bushnel powerview 16 x 50 binocularsrig...   \n",
       "1            -1                                             crappi   \n",
       "2            -1  cd defect printer defunct cant print return la...   \n",
       "3            -1  love manson listen song first suck could send ...   \n",
       "4            -1        well thought would realli like cd wasnt one   \n",
       "\n",
       "   word_count  vader_score  vader_class  roberta_sentiment  \n",
       "0         235      -0.7715           -1                 -1  \n",
       "1           1       0.0000            0                  0  \n",
       "2          19      -0.9354           -1                 -1  \n",
       "3          17       0.5815            1                 -1  \n",
       "4          18       0.3499            0                  0  "
      ]
     },
     "execution_count": 67,
     "metadata": {},
     "output_type": "execute_result"
    }
   ],
   "source": [
    "# checking the first few rows of the data\n",
    "df.head()"
   ]
  },
  {
   "cell_type": "markdown",
   "metadata": {},
   "source": [
    "Now using the rating_score column as the true label and the roberta_sentiment column as the predicted label, we will calculate the confusion matrix, accuracy, precision, recall, and F1 score."
   ]
  },
  {
   "cell_type": "code",
   "execution_count": 69,
   "metadata": {},
   "outputs": [
    {
     "name": "stdout",
     "output_type": "stream",
     "text": [
      "              precision    recall  f1-score   support\n",
      "\n",
      "          -1       0.29      0.70      0.41        60\n",
      "           0       0.08      0.22      0.12        82\n",
      "           1       0.97      0.84      0.90      1608\n",
      "\n",
      "    accuracy                           0.81      1750\n",
      "   macro avg       0.45      0.59      0.48      1750\n",
      "weighted avg       0.91      0.81      0.85      1750\n",
      "\n"
     ]
    }
   ],
   "source": [
    "# we ensure the 'rating_score' column contains integers for proper comparison\n",
    "df.loc[:, 'rating_score'] = df['rating_score'].astype(int)\n",
    "\n",
    "#  we calculate and print the classification report\n",
    "report = classification_report(df['rating_score'], df['roberta_sentiment'], labels=[-1, 0, 1])\n",
    "print(report)\n"
   ]
  },
  {
   "cell_type": "markdown",
   "metadata": {},
   "source": [
    " The Robustly Optimized BERT Approach (RoBERTa) model achieved an accuracy of 0.81. The model had a precision score of 0.97 and a recall of 0.84 on positive reviews and had a moderate performance on negative and neutral reviews. RoBERTa had a precision and recall score of 0.29 and 0.70 on negative reviews and a precision and recall score of 0.08 and 0.22 on neutral reviews respectively. The overall accuracy of 81% affirms the comparative advantage of RoBERTa over traditional lexicon-based methods. "
   ]
  },
  {
   "cell_type": "code",
   "execution_count": 71,
   "metadata": {},
   "outputs": [
    {
     "data": {
      "image/png": "[encoded data removed]",
      "text/plain": [
       "<Figure size 800x600 with 2 Axes>"
      ]
     },
     "metadata": {},
     "output_type": "display_data"
    }
   ],
   "source": [
    "# Now, we compute the confusion matrix\n",
    "cm = confusion_matrix(df['rating_score'], df['roberta_sentiment'], labels=[-1, 0, 1])\n",
    "\n",
    "# A DataFrame for the confusion matrix for better visualization will be created\n",
    "cm_df = pd.DataFrame(cm, index=['-1', '0', '1'], columns=['-1', '0', '1'])\n",
    "\n",
    "# We plot the confusion matrix\n",
    "plt.figure(figsize=(8, 6))\n",
    "sns.heatmap(cm_df, annot=True, fmt='d', cmap='Blues')\n",
    "plt.title('Confusion Matrix: Roberta Model')\n",
    "plt.ylabel('Actual')\n",
    "plt.xlabel('Predicted')\n",
    "plt.show()"
   ]
  },
  {
   "cell_type": "markdown",
   "metadata": {},
   "source": [
    "### BERT - Bidirectional Encoder Representations from Transformers"
   ]
  },
  {
   "cell_type": "markdown",
   "metadata": {},
   "source": [
    "BERT is a bi-directional sequence model as it processes sequential data by considering both left-to-right and right-to-left contexts. BERT was pre-traind on a large amount of unlabelled data, and can be fine-tuned for specific NLP tasks. It makes use of masked language modelling techniques, and like other NLP tranfomers, it relies on self-attention mechanism to capture contextual relationships within texts. "
   ]
  },
  {
   "cell_type": "markdown",
   "metadata": {},
   "source": [
    "The BERT model and tokenizer is the ‘nlptown/bert-base-multilingual-uncased-sentiment’ model from Hugging face, which has been fine-tuned for sentiment analysis tasks on product reviews in different languages. This model predicts the sentiment of reviews as a star rating ranging from 1 to 5. These predictions were encoded into a new column called ‘bert_sentiment’, where 1-star and 2-star ratings were represented as -1 (negative) , 3-star rating as 0 (neutral) , and 4-star and 5-star as 1 (positive). "
   ]
  },
  {
   "cell_type": "code",
   "execution_count": 72,
   "metadata": {},
   "outputs": [],
   "source": [
    "from transformers import BertTokenizer, BertForSequenceClassification, pipeline\n",
    "import pandas as pd\n",
    "\n",
    "# loading the BERT tokenizer and model\n",
    "tokenizer = BertTokenizer.from_pretrained('nlptown/bert-base-multilingual-uncased-sentiment')\n",
    "model = BertForSequenceClassification.from_pretrained('nlptown/bert-base-multilingual-uncased-sentiment')\n",
    "\n",
    "# we create a pipeline for sentiment analysis using the loaded model and tokenizer\n",
    "classifier = pipeline(\"sentiment-analysis\", model=model, tokenizer=tokenizer, max_length=512, truncation=True)\n",
    "\n",
    "# function to apply the classifier safely and handle exceptions\n",
    "def get_sentiment(text):\n",
    "    try:\n",
    "        result = classifier(text)[0]['label']\n",
    "        return result\n",
    "    except RuntimeError as e:\n",
    "        print(f\"RuntimeError for text: {text[:50]}... - {e}\")\n",
    "        return None\n",
    "\n",
    "\n",
    "# now we apply the classifier to predict sentiment for each review\n",
    "df['bert_sentiment'] = df['review_word'].apply(get_sentiment)\n",
    "\n",
    "\n",
    "# The sentiment labels for this specific model might be different; adjust the mapping as needed\n",
    "sentiment_mapping = {'1 star': -1, '2 stars': -1, '3 stars': 0, '4 stars': 1, '5 stars': 1}\n",
    "df['bert_sentiment'] = df['bert_sentiment'].map(sentiment_mapping)\n",
    "\n"
   ]
  },
  {
   "cell_type": "code",
   "execution_count": 73,
   "metadata": {},
   "outputs": [
    {
     "data": {
      "text/html": [
       "<div>\n",
       "<style scoped>\n",
       "    .dataframe tbody tr th:only-of-type {\n",
       "        vertical-align: middle;\n",
       "    }\n",
       "\n",
       "    .dataframe tbody tr th {\n",
       "        vertical-align: top;\n",
       "    }\n",
       "\n",
       "    .dataframe thead th {\n",
       "        text-align: right;\n",
       "    }\n",
       "</style>\n",
       "<table border=\"1\" class=\"dataframe\">\n",
       "  <thead>\n",
       "    <tr style=\"text-align: right;\">\n",
       "      <th></th>\n",
       "      <th>rating</th>\n",
       "      <th>review_word</th>\n",
       "      <th>year</th>\n",
       "      <th>rating_score</th>\n",
       "      <th>new_review_word</th>\n",
       "      <th>word_count</th>\n",
       "      <th>vader_score</th>\n",
       "      <th>vader_class</th>\n",
       "      <th>roberta_sentiment</th>\n",
       "      <th>bert_sentiment</th>\n",
       "    </tr>\n",
       "  </thead>\n",
       "  <tbody>\n",
       "    <tr>\n",
       "      <th>509</th>\n",
       "      <td>5</td>\n",
       "      <td>This movie is amazing and Elizabeth Taylor as ...</td>\n",
       "      <td>2019</td>\n",
       "      <td>1</td>\n",
       "      <td>movi amaz elizabeth taylor katherin never grow...</td>\n",
       "      <td>74</td>\n",
       "      <td>0.9451</td>\n",
       "      <td>1</td>\n",
       "      <td>1</td>\n",
       "      <td>1</td>\n",
       "    </tr>\n",
       "    <tr>\n",
       "      <th>304</th>\n",
       "      <td>3</td>\n",
       "      <td>I have a daughter who is curious about the Ali...</td>\n",
       "      <td>2018</td>\n",
       "      <td>0</td>\n",
       "      <td>daughter curiou alic wonderland stori charact ...</td>\n",
       "      <td>294</td>\n",
       "      <td>0.9929</td>\n",
       "      <td>1</td>\n",
       "      <td>1</td>\n",
       "      <td>0</td>\n",
       "    </tr>\n",
       "  </tbody>\n",
       "</table>\n",
       "</div>"
      ],
      "text/plain": [
       "     rating                                        review_word  year  \\\n",
       "509       5  This movie is amazing and Elizabeth Taylor as ...  2019   \n",
       "304       3  I have a daughter who is curious about the Ali...  2018   \n",
       "\n",
       "     rating_score                                    new_review_word  \\\n",
       "509             1  movi amaz elizabeth taylor katherin never grow...   \n",
       "304             0  daughter curiou alic wonderland stori charact ...   \n",
       "\n",
       "     word_count  vader_score  vader_class  roberta_sentiment  bert_sentiment  \n",
       "509          74       0.9451            1                  1               1  \n",
       "304         294       0.9929            1                  1               0  "
      ]
     },
     "execution_count": 73,
     "metadata": {},
     "output_type": "execute_result"
    }
   ],
   "source": [
    "df.sample(2)"
   ]
  },
  {
   "cell_type": "markdown",
   "metadata": {},
   "source": [
    "Now using the rating_score column as the true label and the bert_sentiment column as the predicted label, we will calculate the confusion matrix, accuracy, precision, recall, and F1 score."
   ]
  },
  {
   "cell_type": "code",
   "execution_count": 74,
   "metadata": {},
   "outputs": [
    {
     "name": "stdout",
     "output_type": "stream",
     "text": [
      "              precision    recall  f1-score   support\n",
      "\n",
      "          -1       0.31      0.92      0.46        60\n",
      "           0       0.29      0.48      0.36        82\n",
      "           1       0.99      0.89      0.94      1608\n",
      "\n",
      "    accuracy                           0.87      1750\n",
      "   macro avg       0.53      0.76      0.59      1750\n",
      "weighted avg       0.94      0.87      0.89      1750\n",
      "\n"
     ]
    }
   ],
   "source": [
    "# Ensure the 'rating_score' column contains integers for proper comparison\n",
    "df.loc[:, 'rating_score'] = df['rating_score'].astype(int)\n",
    "\n",
    "# Calculate and print the classification report\n",
    "report = classification_report(df['rating_score'], df['bert_sentiment'], labels=[-1, 0, 1])\n",
    "print(report)\n"
   ]
  },
  {
   "cell_type": "markdown",
   "metadata": {},
   "source": [
    "The Bidirectional Encoder Representations from Transformers (BERT) model had the best performance, achieving an accuracy of 0.87. The model recorded a precision of 0.99 and a recall of 0.89 on positive reviews. BERT also had a moderate performance on negative and neutral reviews. The precision and recall score for negative reviews was 0.31 and 0.92, and the precision and recall score on neutral reviews are 0.08 and 0.22 respectively. "
   ]
  },
  {
   "cell_type": "code",
   "execution_count": 75,
   "metadata": {},
   "outputs": [
    {
     "data": {
      "image/png": "[encoded data removed]",
      "text/plain": [
       "<Figure size 800x600 with 2 Axes>"
      ]
     },
     "metadata": {},
     "output_type": "display_data"
    }
   ],
   "source": [
    "# Compute the confusion matrix\n",
    "cm = confusion_matrix(df['rating_score'], df['bert_sentiment'], labels=[-1, 0, 1])\n",
    "\n",
    "# Create a DataFrame for the confusion matrix for better visualization\n",
    "cm_df = pd.DataFrame(cm, index=['-1', '0', '1'], columns=['-1', '0', '1'])\n",
    "\n",
    "# Plot the confusion matrix\n",
    "plt.figure(figsize=(8, 6))\n",
    "sns.heatmap(cm_df, annot=True, fmt='d', cmap='Blues')\n",
    "plt.title('Confusion Matrix: BERT Model')\n",
    "plt.ylabel('Actual')\n",
    "plt.xlabel('Predicted')\n",
    "plt.show()"
   ]
  },
  {
   "cell_type": "markdown",
   "metadata": {},
   "source": [
    "### Investigating false postives"
   ]
  },
  {
   "cell_type": "markdown",
   "metadata": {},
   "source": [
    "In sentiment analysis for customer satisfaction, the most detrimental error is a false negative, where a review with a negative sentiment is incorrectly classified as positive (FNneg,pos). This type of misclassification  can result in unresolved customer issues, damage to the brand’s reputation, customer iteration and missed opportunity for product and service improvememts. "
   ]
  },
  {
   "cell_type": "markdown",
   "metadata": {},
   "source": [
    "To investigate these false positives, we wil filter the dataset to remove irrelevant columns"
   ]
  },
  {
   "cell_type": "code",
   "execution_count": 76,
   "metadata": {},
   "outputs": [
    {
     "data": {
      "text/html": [
       "<div>\n",
       "<style scoped>\n",
       "    .dataframe tbody tr th:only-of-type {\n",
       "        vertical-align: middle;\n",
       "    }\n",
       "\n",
       "    .dataframe tbody tr th {\n",
       "        vertical-align: top;\n",
       "    }\n",
       "\n",
       "    .dataframe thead th {\n",
       "        text-align: right;\n",
       "    }\n",
       "</style>\n",
       "<table border=\"1\" class=\"dataframe\">\n",
       "  <thead>\n",
       "    <tr style=\"text-align: right;\">\n",
       "      <th></th>\n",
       "      <th>review_word</th>\n",
       "      <th>rating_score</th>\n",
       "      <th>vader_class</th>\n",
       "      <th>roberta_sentiment</th>\n",
       "      <th>bert_sentiment</th>\n",
       "    </tr>\n",
       "  </thead>\n",
       "  <tbody>\n",
       "    <tr>\n",
       "      <th>0</th>\n",
       "      <td>so, these are the SECOND Bushnell Powerview 16...</td>\n",
       "      <td>-1</td>\n",
       "      <td>-1</td>\n",
       "      <td>-1</td>\n",
       "      <td>-1</td>\n",
       "    </tr>\n",
       "    <tr>\n",
       "      <th>1</th>\n",
       "      <td>Crappie</td>\n",
       "      <td>-1</td>\n",
       "      <td>0</td>\n",
       "      <td>0</td>\n",
       "      <td>-1</td>\n",
       "    </tr>\n",
       "    <tr>\n",
       "      <th>2</th>\n",
       "      <td>CD is defective, but my printer's defunct, so ...</td>\n",
       "      <td>-1</td>\n",
       "      <td>-1</td>\n",
       "      <td>-1</td>\n",
       "      <td>-1</td>\n",
       "    </tr>\n",
       "    <tr>\n",
       "      <th>3</th>\n",
       "      <td>I love Manson, but should have listened to all...</td>\n",
       "      <td>-1</td>\n",
       "      <td>1</td>\n",
       "      <td>-1</td>\n",
       "      <td>-1</td>\n",
       "    </tr>\n",
       "    <tr>\n",
       "      <th>4</th>\n",
       "      <td>well I thought that I would really like this c...</td>\n",
       "      <td>-1</td>\n",
       "      <td>0</td>\n",
       "      <td>0</td>\n",
       "      <td>-1</td>\n",
       "    </tr>\n",
       "  </tbody>\n",
       "</table>\n",
       "</div>"
      ],
      "text/plain": [
       "                                         review_word  rating_score  \\\n",
       "0  so, these are the SECOND Bushnell Powerview 16...            -1   \n",
       "1                                            Crappie            -1   \n",
       "2  CD is defective, but my printer's defunct, so ...            -1   \n",
       "3  I love Manson, but should have listened to all...            -1   \n",
       "4  well I thought that I would really like this c...            -1   \n",
       "\n",
       "   vader_class  roberta_sentiment  bert_sentiment  \n",
       "0           -1                 -1              -1  \n",
       "1            0                  0              -1  \n",
       "2           -1                 -1              -1  \n",
       "3            1                 -1              -1  \n",
       "4            0                  0              -1  "
      ]
     },
     "execution_count": 76,
     "metadata": {},
     "output_type": "execute_result"
    }
   ],
   "source": [
    "# filter the data to only include the review_word, rating_score, vader_class, roberta_sentiment, and bert_sentiment columns\n",
    "results = df[['review_word', 'rating_score', 'vader_class', 'roberta_sentiment', 'bert_sentiment']]\n",
    "results.head()"
   ]
  },
  {
   "cell_type": "markdown",
   "metadata": {},
   "source": [
    "#### False Positives: VADER"
   ]
  },
  {
   "cell_type": "markdown",
   "metadata": {},
   "source": [
    "Here we will investigate cases where the VADER model classified a review as positive while the actual rating was negative."
   ]
  },
  {
   "cell_type": "code",
   "execution_count": 78,
   "metadata": {},
   "outputs": [
    {
     "data": {
      "text/html": [
       "<div>\n",
       "<style scoped>\n",
       "    .dataframe tbody tr th:only-of-type {\n",
       "        vertical-align: middle;\n",
       "    }\n",
       "\n",
       "    .dataframe tbody tr th {\n",
       "        vertical-align: top;\n",
       "    }\n",
       "\n",
       "    .dataframe thead th {\n",
       "        text-align: right;\n",
       "    }\n",
       "</style>\n",
       "<table border=\"1\" class=\"dataframe\">\n",
       "  <thead>\n",
       "    <tr style=\"text-align: right;\">\n",
       "      <th></th>\n",
       "      <th>review_word</th>\n",
       "      <th>rating_score</th>\n",
       "      <th>vader_class</th>\n",
       "      <th>roberta_sentiment</th>\n",
       "      <th>bert_sentiment</th>\n",
       "    </tr>\n",
       "  </thead>\n",
       "  <tbody>\n",
       "    <tr>\n",
       "      <th>3</th>\n",
       "      <td>I love Manson, but should have listened to all...</td>\n",
       "      <td>-1</td>\n",
       "      <td>1</td>\n",
       "      <td>-1</td>\n",
       "      <td>-1</td>\n",
       "    </tr>\n",
       "    <tr>\n",
       "      <th>8</th>\n",
       "      <td>Purchased item and package was in excellent co...</td>\n",
       "      <td>-1</td>\n",
       "      <td>1</td>\n",
       "      <td>1</td>\n",
       "      <td>-1</td>\n",
       "    </tr>\n",
       "    <tr>\n",
       "      <th>704</th>\n",
       "      <td>Couldn’t get into it for some reason… I wish I...</td>\n",
       "      <td>-1</td>\n",
       "      <td>1</td>\n",
       "      <td>-1</td>\n",
       "      <td>-1</td>\n",
       "    </tr>\n",
       "    <tr>\n",
       "      <th>706</th>\n",
       "      <td>What I did not like as that Moby play and Moby...</td>\n",
       "      <td>-1</td>\n",
       "      <td>1</td>\n",
       "      <td>-1</td>\n",
       "      <td>-1</td>\n",
       "    </tr>\n",
       "    <tr>\n",
       "      <th>711</th>\n",
       "      <td>This is a great album; one of my favorites. Ho...</td>\n",
       "      <td>-1</td>\n",
       "      <td>1</td>\n",
       "      <td>-1</td>\n",
       "      <td>-1</td>\n",
       "    </tr>\n",
       "  </tbody>\n",
       "</table>\n",
       "</div>"
      ],
      "text/plain": [
       "                                           review_word  rating_score  \\\n",
       "3    I love Manson, but should have listened to all...            -1   \n",
       "8    Purchased item and package was in excellent co...            -1   \n",
       "704  Couldn’t get into it for some reason… I wish I...            -1   \n",
       "706  What I did not like as that Moby play and Moby...            -1   \n",
       "711  This is a great album; one of my favorites. Ho...            -1   \n",
       "\n",
       "     vader_class  roberta_sentiment  bert_sentiment  \n",
       "3              1                 -1              -1  \n",
       "8              1                  1              -1  \n",
       "704            1                 -1              -1  \n",
       "706            1                 -1              -1  \n",
       "711            1                 -1              -1  "
      ]
     },
     "execution_count": 78,
     "metadata": {},
     "output_type": "execute_result"
    }
   ],
   "source": [
    "# filter the data to see where rating_score = -1 and vader_class = 1\n",
    "d = results[(results['rating_score'] == -1) & (results['vader_class'] == 1)]\n",
    "d.head()"
   ]
  },
  {
   "cell_type": "code",
   "execution_count": 79,
   "metadata": {},
   "outputs": [
    {
     "data": {
      "text/plain": [
       "(12, 5)"
      ]
     },
     "execution_count": 79,
     "metadata": {},
     "output_type": "execute_result"
    }
   ],
   "source": [
    "# check the number of false positives\n",
    "d.shape"
   ]
  },
  {
   "cell_type": "markdown",
   "metadata": {},
   "source": [
    "There are 12 false positives when comparing the rating_score and vader_class columns."
   ]
  },
  {
   "cell_type": "markdown",
   "metadata": {},
   "source": [
    "Let us take a closer look at one of the cases where the Vader model predicted a positive sentiment while the actual rating was negative."
   ]
  },
  {
   "cell_type": "code",
   "execution_count": 136,
   "metadata": {},
   "outputs": [
    {
     "data": {
      "text/plain": [
       "'Love this album, but rated it with 2 stars because the album cover was delivered bent at the corner. As someone who collects vinyl albums, this is deeply disappointing. I wish the shipper would have taken more care.'"
      ]
     },
     "execution_count": 136,
     "metadata": {},
     "output_type": "execute_result"
    }
   ],
   "source": [
    "d.review_word.iloc[8]"
   ]
  },
  {
   "cell_type": "code",
   "execution_count": 135,
   "metadata": {},
   "outputs": [
    {
     "data": {
      "text/plain": [
       "{'neg': 0.099, 'neu': 0.666, 'pos': 0.235, 'compound': 0.7627}"
      ]
     },
     "execution_count": 135,
     "metadata": {},
     "output_type": "execute_result"
    }
   ],
   "source": [
    "\n",
    "score1 = analyser.polarity_scores('Love this album, but rated it with 2 stars because the album cover was delivered bent at the corner. As someone who collects vinyl albums, this is deeply disappointing. I wish the shipper would have taken more care.')\n",
    "score1\n",
    "\n",
    "    "
   ]
  },
  {
   "cell_type": "markdown",
   "metadata": {},
   "source": [
    "#### False Positives: Roberta Model"
   ]
  },
  {
   "cell_type": "markdown",
   "metadata": {},
   "source": [
    "Here we will investigate cases where the Roberta model classified a review as positive while the actual rating was negative."
   ]
  },
  {
   "cell_type": "code",
   "execution_count": 80,
   "metadata": {},
   "outputs": [
    {
     "data": {
      "text/html": [
       "<div>\n",
       "<style scoped>\n",
       "    .dataframe tbody tr th:only-of-type {\n",
       "        vertical-align: middle;\n",
       "    }\n",
       "\n",
       "    .dataframe tbody tr th {\n",
       "        vertical-align: top;\n",
       "    }\n",
       "\n",
       "    .dataframe thead th {\n",
       "        text-align: right;\n",
       "    }\n",
       "</style>\n",
       "<table border=\"1\" class=\"dataframe\">\n",
       "  <thead>\n",
       "    <tr style=\"text-align: right;\">\n",
       "      <th></th>\n",
       "      <th>review_word</th>\n",
       "      <th>rating_score</th>\n",
       "      <th>vader_class</th>\n",
       "      <th>roberta_sentiment</th>\n",
       "      <th>bert_sentiment</th>\n",
       "    </tr>\n",
       "  </thead>\n",
       "  <tbody>\n",
       "    <tr>\n",
       "      <th>8</th>\n",
       "      <td>Purchased item and package was in excellent co...</td>\n",
       "      <td>-1</td>\n",
       "      <td>1</td>\n",
       "      <td>1</td>\n",
       "      <td>-1</td>\n",
       "    </tr>\n",
       "    <tr>\n",
       "      <th>1051</th>\n",
       "      <td>The story line was funny and interesting. The ...</td>\n",
       "      <td>-1</td>\n",
       "      <td>1</td>\n",
       "      <td>1</td>\n",
       "      <td>-1</td>\n",
       "    </tr>\n",
       "    <tr>\n",
       "      <th>1060</th>\n",
       "      <td>Decades ago I had this \"album\" and really enjo...</td>\n",
       "      <td>-1</td>\n",
       "      <td>1</td>\n",
       "      <td>1</td>\n",
       "      <td>-1</td>\n",
       "    </tr>\n",
       "    <tr>\n",
       "      <th>1062</th>\n",
       "      <td>I'm a Beastie Boys fan, to be sure. I collecte...</td>\n",
       "      <td>-1</td>\n",
       "      <td>1</td>\n",
       "      <td>1</td>\n",
       "      <td>0</td>\n",
       "    </tr>\n",
       "    <tr>\n",
       "      <th>1063</th>\n",
       "      <td>I love this album and when I saw Craft Recordi...</td>\n",
       "      <td>-1</td>\n",
       "      <td>-1</td>\n",
       "      <td>1</td>\n",
       "      <td>-1</td>\n",
       "    </tr>\n",
       "  </tbody>\n",
       "</table>\n",
       "</div>"
      ],
      "text/plain": [
       "                                            review_word  rating_score  \\\n",
       "8     Purchased item and package was in excellent co...            -1   \n",
       "1051  The story line was funny and interesting. The ...            -1   \n",
       "1060  Decades ago I had this \"album\" and really enjo...            -1   \n",
       "1062  I'm a Beastie Boys fan, to be sure. I collecte...            -1   \n",
       "1063  I love this album and when I saw Craft Recordi...            -1   \n",
       "\n",
       "      vader_class  roberta_sentiment  bert_sentiment  \n",
       "8               1                  1              -1  \n",
       "1051            1                  1              -1  \n",
       "1060            1                  1              -1  \n",
       "1062            1                  1               0  \n",
       "1063           -1                  1              -1  "
      ]
     },
     "execution_count": 80,
     "metadata": {},
     "output_type": "execute_result"
    }
   ],
   "source": [
    "# filter the data to see where rating_score = -1 and roberta_sentiment = 1\n",
    "e = results[(results['rating_score'] == -1) & (results['roberta_sentiment'] == 1)]\n",
    "e.head()"
   ]
  },
  {
   "cell_type": "code",
   "execution_count": 81,
   "metadata": {},
   "outputs": [
    {
     "data": {
      "text/plain": [
       "(6, 5)"
      ]
     },
     "execution_count": 81,
     "metadata": {},
     "output_type": "execute_result"
    }
   ],
   "source": [
    "# investigate the false positives\n",
    "e.shape"
   ]
  },
  {
   "cell_type": "markdown",
   "metadata": {},
   "source": [
    "There are 3 false positives in the data."
   ]
  },
  {
   "cell_type": "markdown",
   "metadata": {},
   "source": [
    "#### False Positive: BERT Model"
   ]
  },
  {
   "cell_type": "markdown",
   "metadata": {},
   "source": [
    "Here we will investigate cases where the BERT model classified a review as positive while the actual rating was negative."
   ]
  },
  {
   "cell_type": "code",
   "execution_count": 83,
   "metadata": {},
   "outputs": [
    {
     "data": {
      "text/html": [
       "<div>\n",
       "<style scoped>\n",
       "    .dataframe tbody tr th:only-of-type {\n",
       "        vertical-align: middle;\n",
       "    }\n",
       "\n",
       "    .dataframe tbody tr th {\n",
       "        vertical-align: top;\n",
       "    }\n",
       "\n",
       "    .dataframe thead th {\n",
       "        text-align: right;\n",
       "    }\n",
       "</style>\n",
       "<table border=\"1\" class=\"dataframe\">\n",
       "  <thead>\n",
       "    <tr style=\"text-align: right;\">\n",
       "      <th></th>\n",
       "      <th>review_word</th>\n",
       "      <th>rating_score</th>\n",
       "      <th>vader_class</th>\n",
       "      <th>roberta_sentiment</th>\n",
       "      <th>bert_sentiment</th>\n",
       "    </tr>\n",
       "  </thead>\n",
       "  <tbody>\n",
       "  </tbody>\n",
       "</table>\n",
       "</div>"
      ],
      "text/plain": [
       "Empty DataFrame\n",
       "Columns: [review_word, rating_score, vader_class, roberta_sentiment, bert_sentiment]\n",
       "Index: []"
      ]
     },
     "execution_count": 83,
     "metadata": {},
     "output_type": "execute_result"
    }
   ],
   "source": [
    "# filter the data to see where rating_score = -1 and bert_sentiment = 1\n",
    "f = results[(results['rating_score'] == -1) & (results['bert_sentiment'] == 1)]\n",
    "f.head()"
   ]
  },
  {
   "cell_type": "markdown",
   "metadata": {},
   "source": [
    "The BERT model had no false positives. This is a good sign that the model is performing well. "
   ]
  },
  {
   "cell_type": "markdown",
   "metadata": {},
   "source": [
    "## CONCLUSION\n"
   ]
  },
  {
   "cell_type": "markdown",
   "metadata": {},
   "source": [
    "The exploratory data analysis revealed that customers’ sentiments on the e-commerce platform within the period of this study was predominantly positive, with about 91% of the reviews having a positive sentiment. This answers the first research question of this study, indicating a high level of satisfaction from Amazon’s customer base. This infers that customers were pleased with their purchases during the period of time. \n",
    "\n",
    "Secondly, there was significant correlation observed between the trend of customers sentiments on the e-commerce platform over time and the fluctuation in Amazon’s  ASCI score over the same period. The trend of customer sentiments and the average ASCI score experienced a great decline in 2021, only in experience a sharp rise in 2022. This proffers an answer to the second research question of this research, suggesting that customer sentiment is a reliable indicator of customer satisfaction trends captured by the ACSI score.\n",
    "\n",
    "The sentiment analysis performed using the Lexicon-based approach and NLP transformers suggest that NLP transformers have superior contextual understanding and classification accuracy compared to lexicon-based approaches. This is a because the lexicons-based approach considers individual words and struggles with context and relationship within words. Hence, they fail to capture subtle sentiments such as sarcasms, ironies, and tones in a body of text. With these three conclusions, this research successfully achieved its aim and provided answers to the three research questions of this study."
   ]
  },
  {
   "cell_type": "markdown",
   "metadata": {},
   "source": [
    "Bibliography\n",
    "\n",
    "https://www.analyticsvidhya.com/blog/2023/03/analysis-of-amazon-review-using-vader-roberta-and-nltk/\n",
    "\n",
    "https://github.com/Kunal-Kumar-Das191049/Sentimental-Analysis-of-Amazon-Reviews/blob/master/Code%20and%20Datasets/\n",
    "Amazon%20review%20sentimental%20analysis%20New.ipynb\n",
    "\n",
    "https://www.kaggle.com/code/idevji1/sentiment-analysis-of-alexa-reviews-using-vader\n",
    "\n",
    "https://www.kaggle.com/code/mayurdushetwar/amazon-reviews-sentiment-vader-roberta\n",
    "\n",
    "https://www.youtube.com/watch?v=QpzMWQvxXWk&list=PLSLB_XUBsqT6CgZ_c04yZZFWvYbggIJ3A\n",
    "\n",
    "https://huggingface.co/nlptown/bert-base-multilingual-uncased-sentiment\n"
   ]
  },
  {
   "cell_type": "markdown",
   "metadata": {},
   "source": []
  }
 ],
 "metadata": {
  "kernelspec": {
   "display_name": "Python 3",
   "language": "python",
   "name": "python3"
  },
  "language_info": {
   "codemirror_mode": {
    "name": "ipython",
    "version": 3
   },
   "file_extension": ".py",
   "mimetype": "text/x-python",
   "name": "python",
   "nbconvert_exporter": "python",
   "pygments_lexer": "ipython3",
   "version": "3.12.1"
  }
 },
 "nbformat": 4,
 "nbformat_minor": 2
}
